{
 "cells": [
  {
   "cell_type": "markdown",
   "id": "574c2959",
   "metadata": {},
   "source": [
    "#### Prediction using Supervised Machine Learning\n",
    "\n",
    "-Predicting Purchase using Black Friday Sales"
   ]
  },
  {
   "cell_type": "code",
   "execution_count": 1,
   "id": "c3b6c786",
   "metadata": {},
   "outputs": [],
   "source": [
    "import pandas as pd\n",
    "import matplotlib.pyplot as plt \n",
    "import numpy as np\n",
    "import seaborn as sns\n",
    "%matplotlib inline\n",
    "import warnings\n",
    "warnings.filterwarnings('ignore')"
   ]
  },
  {
   "cell_type": "code",
   "execution_count": 2,
   "id": "0699687e",
   "metadata": {
    "scrolled": false
   },
   "outputs": [
    {
     "data": {
      "text/html": [
       "<div>\n",
       "<style scoped>\n",
       "    .dataframe tbody tr th:only-of-type {\n",
       "        vertical-align: middle;\n",
       "    }\n",
       "\n",
       "    .dataframe tbody tr th {\n",
       "        vertical-align: top;\n",
       "    }\n",
       "\n",
       "    .dataframe thead th {\n",
       "        text-align: right;\n",
       "    }\n",
       "</style>\n",
       "<table border=\"1\" class=\"dataframe\">\n",
       "  <thead>\n",
       "    <tr style=\"text-align: right;\">\n",
       "      <th></th>\n",
       "      <th>User_ID</th>\n",
       "      <th>Product_ID</th>\n",
       "      <th>Gender</th>\n",
       "      <th>Age</th>\n",
       "      <th>Occupation</th>\n",
       "      <th>City_Category</th>\n",
       "      <th>Stay_In_Current_City_Years</th>\n",
       "      <th>Marital_Status</th>\n",
       "      <th>Product_Category_1</th>\n",
       "      <th>Product_Category_2</th>\n",
       "      <th>Product_Category_3</th>\n",
       "      <th>Purchase</th>\n",
       "    </tr>\n",
       "  </thead>\n",
       "  <tbody>\n",
       "    <tr>\n",
       "      <th>0</th>\n",
       "      <td>1000001</td>\n",
       "      <td>P00069042</td>\n",
       "      <td>F</td>\n",
       "      <td>0-17</td>\n",
       "      <td>10</td>\n",
       "      <td>A</td>\n",
       "      <td>2</td>\n",
       "      <td>0</td>\n",
       "      <td>3</td>\n",
       "      <td>NaN</td>\n",
       "      <td>NaN</td>\n",
       "      <td>8370</td>\n",
       "    </tr>\n",
       "    <tr>\n",
       "      <th>1</th>\n",
       "      <td>1000001</td>\n",
       "      <td>P00248942</td>\n",
       "      <td>F</td>\n",
       "      <td>0-17</td>\n",
       "      <td>10</td>\n",
       "      <td>A</td>\n",
       "      <td>2</td>\n",
       "      <td>0</td>\n",
       "      <td>1</td>\n",
       "      <td>6.0</td>\n",
       "      <td>14.0</td>\n",
       "      <td>15200</td>\n",
       "    </tr>\n",
       "    <tr>\n",
       "      <th>2</th>\n",
       "      <td>1000001</td>\n",
       "      <td>P00087842</td>\n",
       "      <td>F</td>\n",
       "      <td>0-17</td>\n",
       "      <td>10</td>\n",
       "      <td>A</td>\n",
       "      <td>2</td>\n",
       "      <td>0</td>\n",
       "      <td>12</td>\n",
       "      <td>NaN</td>\n",
       "      <td>NaN</td>\n",
       "      <td>1422</td>\n",
       "    </tr>\n",
       "    <tr>\n",
       "      <th>3</th>\n",
       "      <td>1000001</td>\n",
       "      <td>P00085442</td>\n",
       "      <td>F</td>\n",
       "      <td>0-17</td>\n",
       "      <td>10</td>\n",
       "      <td>A</td>\n",
       "      <td>2</td>\n",
       "      <td>0</td>\n",
       "      <td>12</td>\n",
       "      <td>14.0</td>\n",
       "      <td>NaN</td>\n",
       "      <td>1057</td>\n",
       "    </tr>\n",
       "    <tr>\n",
       "      <th>4</th>\n",
       "      <td>1000002</td>\n",
       "      <td>P00285442</td>\n",
       "      <td>M</td>\n",
       "      <td>55+</td>\n",
       "      <td>16</td>\n",
       "      <td>C</td>\n",
       "      <td>4+</td>\n",
       "      <td>0</td>\n",
       "      <td>8</td>\n",
       "      <td>NaN</td>\n",
       "      <td>NaN</td>\n",
       "      <td>7969</td>\n",
       "    </tr>\n",
       "    <tr>\n",
       "      <th>...</th>\n",
       "      <td>...</td>\n",
       "      <td>...</td>\n",
       "      <td>...</td>\n",
       "      <td>...</td>\n",
       "      <td>...</td>\n",
       "      <td>...</td>\n",
       "      <td>...</td>\n",
       "      <td>...</td>\n",
       "      <td>...</td>\n",
       "      <td>...</td>\n",
       "      <td>...</td>\n",
       "      <td>...</td>\n",
       "    </tr>\n",
       "    <tr>\n",
       "      <th>550063</th>\n",
       "      <td>1006033</td>\n",
       "      <td>P00372445</td>\n",
       "      <td>M</td>\n",
       "      <td>51-55</td>\n",
       "      <td>13</td>\n",
       "      <td>B</td>\n",
       "      <td>1</td>\n",
       "      <td>1</td>\n",
       "      <td>20</td>\n",
       "      <td>NaN</td>\n",
       "      <td>NaN</td>\n",
       "      <td>368</td>\n",
       "    </tr>\n",
       "    <tr>\n",
       "      <th>550064</th>\n",
       "      <td>1006035</td>\n",
       "      <td>P00375436</td>\n",
       "      <td>F</td>\n",
       "      <td>26-35</td>\n",
       "      <td>1</td>\n",
       "      <td>C</td>\n",
       "      <td>3</td>\n",
       "      <td>0</td>\n",
       "      <td>20</td>\n",
       "      <td>NaN</td>\n",
       "      <td>NaN</td>\n",
       "      <td>371</td>\n",
       "    </tr>\n",
       "    <tr>\n",
       "      <th>550065</th>\n",
       "      <td>1006036</td>\n",
       "      <td>P00375436</td>\n",
       "      <td>F</td>\n",
       "      <td>26-35</td>\n",
       "      <td>15</td>\n",
       "      <td>B</td>\n",
       "      <td>4+</td>\n",
       "      <td>1</td>\n",
       "      <td>20</td>\n",
       "      <td>NaN</td>\n",
       "      <td>NaN</td>\n",
       "      <td>137</td>\n",
       "    </tr>\n",
       "    <tr>\n",
       "      <th>550066</th>\n",
       "      <td>1006038</td>\n",
       "      <td>P00375436</td>\n",
       "      <td>F</td>\n",
       "      <td>55+</td>\n",
       "      <td>1</td>\n",
       "      <td>C</td>\n",
       "      <td>2</td>\n",
       "      <td>0</td>\n",
       "      <td>20</td>\n",
       "      <td>NaN</td>\n",
       "      <td>NaN</td>\n",
       "      <td>365</td>\n",
       "    </tr>\n",
       "    <tr>\n",
       "      <th>550067</th>\n",
       "      <td>1006039</td>\n",
       "      <td>P00371644</td>\n",
       "      <td>F</td>\n",
       "      <td>46-50</td>\n",
       "      <td>0</td>\n",
       "      <td>B</td>\n",
       "      <td>4+</td>\n",
       "      <td>1</td>\n",
       "      <td>20</td>\n",
       "      <td>NaN</td>\n",
       "      <td>NaN</td>\n",
       "      <td>490</td>\n",
       "    </tr>\n",
       "  </tbody>\n",
       "</table>\n",
       "<p>550068 rows × 12 columns</p>\n",
       "</div>"
      ],
      "text/plain": [
       "        User_ID Product_ID Gender    Age  Occupation City_Category  \\\n",
       "0       1000001  P00069042      F   0-17          10             A   \n",
       "1       1000001  P00248942      F   0-17          10             A   \n",
       "2       1000001  P00087842      F   0-17          10             A   \n",
       "3       1000001  P00085442      F   0-17          10             A   \n",
       "4       1000002  P00285442      M    55+          16             C   \n",
       "...         ...        ...    ...    ...         ...           ...   \n",
       "550063  1006033  P00372445      M  51-55          13             B   \n",
       "550064  1006035  P00375436      F  26-35           1             C   \n",
       "550065  1006036  P00375436      F  26-35          15             B   \n",
       "550066  1006038  P00375436      F    55+           1             C   \n",
       "550067  1006039  P00371644      F  46-50           0             B   \n",
       "\n",
       "       Stay_In_Current_City_Years  Marital_Status  Product_Category_1  \\\n",
       "0                               2               0                   3   \n",
       "1                               2               0                   1   \n",
       "2                               2               0                  12   \n",
       "3                               2               0                  12   \n",
       "4                              4+               0                   8   \n",
       "...                           ...             ...                 ...   \n",
       "550063                          1               1                  20   \n",
       "550064                          3               0                  20   \n",
       "550065                         4+               1                  20   \n",
       "550066                          2               0                  20   \n",
       "550067                         4+               1                  20   \n",
       "\n",
       "        Product_Category_2  Product_Category_3  Purchase  \n",
       "0                      NaN                 NaN      8370  \n",
       "1                      6.0                14.0     15200  \n",
       "2                      NaN                 NaN      1422  \n",
       "3                     14.0                 NaN      1057  \n",
       "4                      NaN                 NaN      7969  \n",
       "...                    ...                 ...       ...  \n",
       "550063                 NaN                 NaN       368  \n",
       "550064                 NaN                 NaN       371  \n",
       "550065                 NaN                 NaN       137  \n",
       "550066                 NaN                 NaN       365  \n",
       "550067                 NaN                 NaN       490  \n",
       "\n",
       "[550068 rows x 12 columns]"
      ]
     },
     "execution_count": 2,
     "metadata": {},
     "output_type": "execute_result"
    }
   ],
   "source": [
    "black_friday = pd.read_csv('black_friday.csv')\n",
    "black_friday"
   ]
  },
  {
   "cell_type": "code",
   "execution_count": 3,
   "id": "a8a68ffc",
   "metadata": {},
   "outputs": [
    {
     "data": {
      "text/plain": [
       "(550068, 12)"
      ]
     },
     "execution_count": 3,
     "metadata": {},
     "output_type": "execute_result"
    }
   ],
   "source": [
    "#checking for the shape of the dataset\n",
    "black_friday.shape"
   ]
  },
  {
   "cell_type": "markdown",
   "id": "86cd8315",
   "metadata": {},
   "source": [
    "Checking for the information about the DataFrame"
   ]
  },
  {
   "cell_type": "code",
   "execution_count": 4,
   "id": "43cb2c41",
   "metadata": {},
   "outputs": [
    {
     "name": "stdout",
     "output_type": "stream",
     "text": [
      "<class 'pandas.core.frame.DataFrame'>\n",
      "RangeIndex: 550068 entries, 0 to 550067\n",
      "Data columns (total 12 columns):\n",
      " #   Column                      Non-Null Count   Dtype  \n",
      "---  ------                      --------------   -----  \n",
      " 0   User_ID                     550068 non-null  int64  \n",
      " 1   Product_ID                  550068 non-null  object \n",
      " 2   Gender                      550068 non-null  object \n",
      " 3   Age                         550068 non-null  object \n",
      " 4   Occupation                  550068 non-null  int64  \n",
      " 5   City_Category               550068 non-null  object \n",
      " 6   Stay_In_Current_City_Years  550068 non-null  object \n",
      " 7   Marital_Status              550068 non-null  int64  \n",
      " 8   Product_Category_1          550068 non-null  int64  \n",
      " 9   Product_Category_2          376430 non-null  float64\n",
      " 10  Product_Category_3          166821 non-null  float64\n",
      " 11  Purchase                    550068 non-null  int64  \n",
      "dtypes: float64(2), int64(5), object(5)\n",
      "memory usage: 50.4+ MB\n"
     ]
    }
   ],
   "source": [
    "black_friday.info()"
   ]
  },
  {
   "cell_type": "markdown",
   "id": "019068f2",
   "metadata": {},
   "source": [
    "#### Exploratory Data Analysis"
   ]
  },
  {
   "cell_type": "code",
   "execution_count": 5,
   "id": "dee1e15f",
   "metadata": {},
   "outputs": [
    {
     "data": {
      "text/plain": [
       "<AxesSubplot:xlabel='Purchase', ylabel='Density'>"
      ]
     },
     "execution_count": 5,
     "metadata": {},
     "output_type": "execute_result"
    },
    {
     "data": {
      "image/png": "[encoded data removed]",
      "text/plain": [
       "<Figure size 792x432 with 1 Axes>"
      ]
     },
     "metadata": {
      "needs_background": "light"
     },
     "output_type": "display_data"
    }
   ],
   "source": [
    "#distribution plot for 'Purchase'\n",
    "plt.figure(figsize=(11,6))\n",
    "sns.distplot(black_friday['Purchase'], bins = 20)"
   ]
  },
  {
   "cell_type": "code",
   "execution_count": 6,
   "id": "d0a3f720",
   "metadata": {},
   "outputs": [
    {
     "data": {
      "text/plain": [
       "<AxesSubplot:xlabel='Gender', ylabel='count'>"
      ]
     },
     "execution_count": 6,
     "metadata": {},
     "output_type": "execute_result"
    },
    {
     "data": {
      "image/png": "[encoded data removed]",
      "text/plain": [
       "<Figure size 432x288 with 1 Axes>"
      ]
     },
     "metadata": {
      "needs_background": "light"
     },
     "output_type": "display_data"
    }
   ],
   "source": [
    "#countplot for 'Gender'\n",
    "sns.countplot(black_friday['Gender'])"
   ]
  },
  {
   "cell_type": "code",
   "execution_count": 7,
   "id": "e9b25d0e",
   "metadata": {},
   "outputs": [
    {
     "data": {
      "text/plain": [
       "<AxesSubplot:xlabel='Age', ylabel='count'>"
      ]
     },
     "execution_count": 7,
     "metadata": {},
     "output_type": "execute_result"
    },
    {
     "data": {
      "image/png": "[encoded data removed]",
      "text/plain": [
       "<Figure size 432x288 with 1 Axes>"
      ]
     },
     "metadata": {
      "needs_background": "light"
     },
     "output_type": "display_data"
    }
   ],
   "source": [
    "#countplot for 'Age'\n",
    "sns.countplot(black_friday['Age'])"
   ]
  },
  {
   "cell_type": "code",
   "execution_count": 8,
   "id": "b2a9cf6a",
   "metadata": {},
   "outputs": [
    {
     "data": {
      "text/plain": [
       "<AxesSubplot:xlabel='City_Category', ylabel='count'>"
      ]
     },
     "execution_count": 8,
     "metadata": {},
     "output_type": "execute_result"
    },
    {
     "data": {
      "image/png": "[encoded data removed]",
      "text/plain": [
       "<Figure size 432x288 with 1 Axes>"
      ]
     },
     "metadata": {
      "needs_background": "light"
     },
     "output_type": "display_data"
    }
   ],
   "source": [
    "#countplot for 'City Category'\n",
    "sns.countplot(black_friday['City_Category'])"
   ]
  },
  {
   "cell_type": "code",
   "execution_count": 9,
   "id": "20a4827d",
   "metadata": {},
   "outputs": [
    {
     "data": {
      "image/png": "[encoded data removed]",
      "text/plain": [
       "<Figure size 792x432 with 1 Axes>"
      ]
     },
     "metadata": {
      "needs_background": "light"
     },
     "output_type": "display_data"
    }
   ],
   "source": [
    "#gender and purchase of customers\n",
    "gender_plot = black_friday.pivot_table(index = 'Gender', values = 'Purchase', aggfunc = np.sum)\n",
    "gender_plot.plot(kind='bar', figsize=(11,6))\n",
    "plt.xlabel('Gender')\n",
    "plt.ylabel('Purchase')\n",
    "plt.title('Gender and Purchase')\n",
    "plt.xticks(rotation=0)\n",
    "plt.grid()\n",
    "plt.show()"
   ]
  },
  {
   "cell_type": "markdown",
   "id": "a65a90f9",
   "metadata": {},
   "source": [
    "Checking for total number number of missing values\n",
    "in each column"
   ]
  },
  {
   "cell_type": "code",
   "execution_count": 10,
   "id": "4fe06b36",
   "metadata": {},
   "outputs": [
    {
     "data": {
      "text/plain": [
       "User_ID                            0\n",
       "Product_ID                         0\n",
       "Gender                             0\n",
       "Age                                0\n",
       "Occupation                         0\n",
       "City_Category                      0\n",
       "Stay_In_Current_City_Years         0\n",
       "Marital_Status                     0\n",
       "Product_Category_1                 0\n",
       "Product_Category_2            173638\n",
       "Product_Category_3            383247\n",
       "Purchase                           0\n",
       "dtype: int64"
      ]
     },
     "execution_count": 10,
     "metadata": {},
     "output_type": "execute_result"
    }
   ],
   "source": [
    "black_friday.isna().sum()"
   ]
  },
  {
   "cell_type": "markdown",
   "id": "b28b367b",
   "metadata": {},
   "source": [
    "##### Cleaning columns 'Age' and 'Stay_in_current_city_years'"
   ]
  },
  {
   "cell_type": "markdown",
   "id": "d27429c0",
   "metadata": {},
   "source": [
    "Finding the unique elements in 'Age' column\n"
   ]
  },
  {
   "cell_type": "code",
   "execution_count": 11,
   "id": "f308fea3",
   "metadata": {},
   "outputs": [
    {
     "data": {
      "text/plain": [
       "array(['0-17', '55+', '26-35', '46-50', '51-55', '36-45', '18-25'],\n",
       "      dtype=object)"
      ]
     },
     "execution_count": 11,
     "metadata": {},
     "output_type": "execute_result"
    }
   ],
   "source": [
    "black_friday['Age'].unique()"
   ]
  },
  {
   "cell_type": "markdown",
   "id": "b7945c09",
   "metadata": {},
   "source": [
    "##### Grouping 'Age' by;\n",
    "\n",
    "'Child, \n",
    "\n",
    "'Young Adult', \n",
    "\n",
    "'Adult'\n",
    "\n",
    "and \n",
    "\n",
    "'Old'"
   ]
  },
  {
   "cell_type": "code",
   "execution_count": 12,
   "id": "f30198b8",
   "metadata": {},
   "outputs": [],
   "source": [
    "def age(value):\n",
    "    if '0-17' in value:\n",
    "        value = value.replace('0-17', 'Child')\n",
    "        return str(value)\n",
    "    elif '18-25' in value:\n",
    "        value = value.replace('18-25', 'Young Adult')\n",
    "        return str(value)\n",
    "    elif '26-35' in value:\n",
    "        value = value.replace('26-35', 'Adult')\n",
    "        return str(value)\n",
    "    elif '36-45' in value:\n",
    "        value = value.replace('36-45', 'Adult')\n",
    "        return str(value)\n",
    "    elif '46-50' in value:\n",
    "        value = value.replace('46-50', 'Adult')\n",
    "        return str(value)\n",
    "    elif '51-55' in value:\n",
    "        value = value.replace('51-55', 'Old')\n",
    "        return str(value)\n",
    "    else:\n",
    "        value = value.replace('55+', 'Old')\n",
    "        return str(value)\n",
    "black_friday['Age'] = black_friday['Age'].apply(age)"
   ]
  },
  {
   "cell_type": "code",
   "execution_count": 13,
   "id": "175607b0",
   "metadata": {},
   "outputs": [
    {
     "data": {
      "text/plain": [
       "array(['Child', 'Old', 'Adult', 'Young Adult'], dtype=object)"
      ]
     },
     "execution_count": 13,
     "metadata": {},
     "output_type": "execute_result"
    }
   ],
   "source": [
    "black_friday['Age'].unique()"
   ]
  },
  {
   "cell_type": "markdown",
   "id": "f03e7d68",
   "metadata": {},
   "source": [
    "Finding the unique elements in 'Stay_In_Current_City_Years' column"
   ]
  },
  {
   "cell_type": "code",
   "execution_count": 14,
   "id": "2e8e86bb",
   "metadata": {},
   "outputs": [
    {
     "data": {
      "text/plain": [
       "array(['2', '4+', '3', '1', '0'], dtype=object)"
      ]
     },
     "execution_count": 14,
     "metadata": {},
     "output_type": "execute_result"
    }
   ],
   "source": [
    "black_friday['Stay_In_Current_City_Years'].unique()"
   ]
  },
  {
   "cell_type": "code",
   "execution_count": 15,
   "id": "9c2fe4a3",
   "metadata": {},
   "outputs": [],
   "source": [
    "def city(value):\n",
    "    if '+' in value:\n",
    "        value = value.replace('+', '')\n",
    "        return int(value)\n",
    "    else:\n",
    "        return int(value)\n",
    "black_friday['Stay_In_Current_City_Years'] = black_friday['Stay_In_Current_City_Years'].apply(city)"
   ]
  },
  {
   "cell_type": "code",
   "execution_count": 16,
   "id": "ad4bc990",
   "metadata": {},
   "outputs": [
    {
     "data": {
      "text/plain": [
       "array([2, 4, 3, 1, 0], dtype=int64)"
      ]
     },
     "execution_count": 16,
     "metadata": {},
     "output_type": "execute_result"
    }
   ],
   "source": [
    "black_friday['Stay_In_Current_City_Years'].unique()"
   ]
  },
  {
   "cell_type": "code",
   "execution_count": 17,
   "id": "b58f7014",
   "metadata": {},
   "outputs": [
    {
     "data": {
      "text/html": [
       "<div>\n",
       "<style scoped>\n",
       "    .dataframe tbody tr th:only-of-type {\n",
       "        vertical-align: middle;\n",
       "    }\n",
       "\n",
       "    .dataframe tbody tr th {\n",
       "        vertical-align: top;\n",
       "    }\n",
       "\n",
       "    .dataframe thead th {\n",
       "        text-align: right;\n",
       "    }\n",
       "</style>\n",
       "<table border=\"1\" class=\"dataframe\">\n",
       "  <thead>\n",
       "    <tr style=\"text-align: right;\">\n",
       "      <th></th>\n",
       "      <th>User_ID</th>\n",
       "      <th>Product_ID</th>\n",
       "      <th>Gender</th>\n",
       "      <th>Age</th>\n",
       "      <th>Occupation</th>\n",
       "      <th>City_Category</th>\n",
       "      <th>Stay_In_Current_City_Years</th>\n",
       "      <th>Marital_Status</th>\n",
       "      <th>Product_Category_1</th>\n",
       "      <th>Product_Category_2</th>\n",
       "      <th>Product_Category_3</th>\n",
       "      <th>Purchase</th>\n",
       "    </tr>\n",
       "  </thead>\n",
       "  <tbody>\n",
       "    <tr>\n",
       "      <th>0</th>\n",
       "      <td>1000001</td>\n",
       "      <td>P00069042</td>\n",
       "      <td>F</td>\n",
       "      <td>Child</td>\n",
       "      <td>10</td>\n",
       "      <td>A</td>\n",
       "      <td>2</td>\n",
       "      <td>0</td>\n",
       "      <td>3</td>\n",
       "      <td>NaN</td>\n",
       "      <td>NaN</td>\n",
       "      <td>8370</td>\n",
       "    </tr>\n",
       "    <tr>\n",
       "      <th>1</th>\n",
       "      <td>1000001</td>\n",
       "      <td>P00248942</td>\n",
       "      <td>F</td>\n",
       "      <td>Child</td>\n",
       "      <td>10</td>\n",
       "      <td>A</td>\n",
       "      <td>2</td>\n",
       "      <td>0</td>\n",
       "      <td>1</td>\n",
       "      <td>6.0</td>\n",
       "      <td>14.0</td>\n",
       "      <td>15200</td>\n",
       "    </tr>\n",
       "    <tr>\n",
       "      <th>2</th>\n",
       "      <td>1000001</td>\n",
       "      <td>P00087842</td>\n",
       "      <td>F</td>\n",
       "      <td>Child</td>\n",
       "      <td>10</td>\n",
       "      <td>A</td>\n",
       "      <td>2</td>\n",
       "      <td>0</td>\n",
       "      <td>12</td>\n",
       "      <td>NaN</td>\n",
       "      <td>NaN</td>\n",
       "      <td>1422</td>\n",
       "    </tr>\n",
       "    <tr>\n",
       "      <th>3</th>\n",
       "      <td>1000001</td>\n",
       "      <td>P00085442</td>\n",
       "      <td>F</td>\n",
       "      <td>Child</td>\n",
       "      <td>10</td>\n",
       "      <td>A</td>\n",
       "      <td>2</td>\n",
       "      <td>0</td>\n",
       "      <td>12</td>\n",
       "      <td>14.0</td>\n",
       "      <td>NaN</td>\n",
       "      <td>1057</td>\n",
       "    </tr>\n",
       "    <tr>\n",
       "      <th>4</th>\n",
       "      <td>1000002</td>\n",
       "      <td>P00285442</td>\n",
       "      <td>M</td>\n",
       "      <td>Old</td>\n",
       "      <td>16</td>\n",
       "      <td>C</td>\n",
       "      <td>4</td>\n",
       "      <td>0</td>\n",
       "      <td>8</td>\n",
       "      <td>NaN</td>\n",
       "      <td>NaN</td>\n",
       "      <td>7969</td>\n",
       "    </tr>\n",
       "  </tbody>\n",
       "</table>\n",
       "</div>"
      ],
      "text/plain": [
       "   User_ID Product_ID Gender    Age  Occupation City_Category  \\\n",
       "0  1000001  P00069042      F  Child          10             A   \n",
       "1  1000001  P00248942      F  Child          10             A   \n",
       "2  1000001  P00087842      F  Child          10             A   \n",
       "3  1000001  P00085442      F  Child          10             A   \n",
       "4  1000002  P00285442      M    Old          16             C   \n",
       "\n",
       "   Stay_In_Current_City_Years  Marital_Status  Product_Category_1  \\\n",
       "0                           2               0                   3   \n",
       "1                           2               0                   1   \n",
       "2                           2               0                  12   \n",
       "3                           2               0                  12   \n",
       "4                           4               0                   8   \n",
       "\n",
       "   Product_Category_2  Product_Category_3  Purchase  \n",
       "0                 NaN                 NaN      8370  \n",
       "1                 6.0                14.0     15200  \n",
       "2                 NaN                 NaN      1422  \n",
       "3                14.0                 NaN      1057  \n",
       "4                 NaN                 NaN      7969  "
      ]
     },
     "execution_count": 17,
     "metadata": {},
     "output_type": "execute_result"
    }
   ],
   "source": [
    "black_friday.head()"
   ]
  },
  {
   "cell_type": "markdown",
   "id": "04e2338b",
   "metadata": {},
   "source": [
    "#### Handling missing values "
   ]
  },
  {
   "cell_type": "code",
   "execution_count": 18,
   "id": "42ec9a9e",
   "metadata": {},
   "outputs": [],
   "source": [
    "from sklearn.impute import SimpleImputer"
   ]
  },
  {
   "cell_type": "code",
   "execution_count": 19,
   "id": "cb006c8e",
   "metadata": {},
   "outputs": [],
   "source": [
    "imputer = SimpleImputer(missing_values = np.nan, strategy = 'most_frequent')\n",
    "#impute NaN value in columns 'Product_Category_2' with mean value of respected column\n",
    "imputer = imputer.fit(black_friday.iloc[:, 9:11])\n",
    "black_friday.iloc[:, 9:11] = imputer.transform(black_friday.iloc[:, 9:11])"
   ]
  },
  {
   "cell_type": "code",
   "execution_count": 20,
   "id": "baf96e91",
   "metadata": {},
   "outputs": [
    {
     "data": {
      "text/html": [
       "<div>\n",
       "<style scoped>\n",
       "    .dataframe tbody tr th:only-of-type {\n",
       "        vertical-align: middle;\n",
       "    }\n",
       "\n",
       "    .dataframe tbody tr th {\n",
       "        vertical-align: top;\n",
       "    }\n",
       "\n",
       "    .dataframe thead th {\n",
       "        text-align: right;\n",
       "    }\n",
       "</style>\n",
       "<table border=\"1\" class=\"dataframe\">\n",
       "  <thead>\n",
       "    <tr style=\"text-align: right;\">\n",
       "      <th></th>\n",
       "      <th>User_ID</th>\n",
       "      <th>Product_ID</th>\n",
       "      <th>Gender</th>\n",
       "      <th>Age</th>\n",
       "      <th>Occupation</th>\n",
       "      <th>City_Category</th>\n",
       "      <th>Stay_In_Current_City_Years</th>\n",
       "      <th>Marital_Status</th>\n",
       "      <th>Product_Category_1</th>\n",
       "      <th>Product_Category_2</th>\n",
       "      <th>Product_Category_3</th>\n",
       "      <th>Purchase</th>\n",
       "    </tr>\n",
       "  </thead>\n",
       "  <tbody>\n",
       "    <tr>\n",
       "      <th>0</th>\n",
       "      <td>1000001</td>\n",
       "      <td>P00069042</td>\n",
       "      <td>F</td>\n",
       "      <td>Child</td>\n",
       "      <td>10</td>\n",
       "      <td>A</td>\n",
       "      <td>2</td>\n",
       "      <td>0</td>\n",
       "      <td>3</td>\n",
       "      <td>8.0</td>\n",
       "      <td>16.0</td>\n",
       "      <td>8370</td>\n",
       "    </tr>\n",
       "    <tr>\n",
       "      <th>1</th>\n",
       "      <td>1000001</td>\n",
       "      <td>P00248942</td>\n",
       "      <td>F</td>\n",
       "      <td>Child</td>\n",
       "      <td>10</td>\n",
       "      <td>A</td>\n",
       "      <td>2</td>\n",
       "      <td>0</td>\n",
       "      <td>1</td>\n",
       "      <td>6.0</td>\n",
       "      <td>14.0</td>\n",
       "      <td>15200</td>\n",
       "    </tr>\n",
       "    <tr>\n",
       "      <th>2</th>\n",
       "      <td>1000001</td>\n",
       "      <td>P00087842</td>\n",
       "      <td>F</td>\n",
       "      <td>Child</td>\n",
       "      <td>10</td>\n",
       "      <td>A</td>\n",
       "      <td>2</td>\n",
       "      <td>0</td>\n",
       "      <td>12</td>\n",
       "      <td>8.0</td>\n",
       "      <td>16.0</td>\n",
       "      <td>1422</td>\n",
       "    </tr>\n",
       "    <tr>\n",
       "      <th>3</th>\n",
       "      <td>1000001</td>\n",
       "      <td>P00085442</td>\n",
       "      <td>F</td>\n",
       "      <td>Child</td>\n",
       "      <td>10</td>\n",
       "      <td>A</td>\n",
       "      <td>2</td>\n",
       "      <td>0</td>\n",
       "      <td>12</td>\n",
       "      <td>14.0</td>\n",
       "      <td>16.0</td>\n",
       "      <td>1057</td>\n",
       "    </tr>\n",
       "    <tr>\n",
       "      <th>4</th>\n",
       "      <td>1000002</td>\n",
       "      <td>P00285442</td>\n",
       "      <td>M</td>\n",
       "      <td>Old</td>\n",
       "      <td>16</td>\n",
       "      <td>C</td>\n",
       "      <td>4</td>\n",
       "      <td>0</td>\n",
       "      <td>8</td>\n",
       "      <td>8.0</td>\n",
       "      <td>16.0</td>\n",
       "      <td>7969</td>\n",
       "    </tr>\n",
       "  </tbody>\n",
       "</table>\n",
       "</div>"
      ],
      "text/plain": [
       "   User_ID Product_ID Gender    Age  Occupation City_Category  \\\n",
       "0  1000001  P00069042      F  Child          10             A   \n",
       "1  1000001  P00248942      F  Child          10             A   \n",
       "2  1000001  P00087842      F  Child          10             A   \n",
       "3  1000001  P00085442      F  Child          10             A   \n",
       "4  1000002  P00285442      M    Old          16             C   \n",
       "\n",
       "   Stay_In_Current_City_Years  Marital_Status  Product_Category_1  \\\n",
       "0                           2               0                   3   \n",
       "1                           2               0                   1   \n",
       "2                           2               0                  12   \n",
       "3                           2               0                  12   \n",
       "4                           4               0                   8   \n",
       "\n",
       "   Product_Category_2  Product_Category_3  Purchase  \n",
       "0                 8.0                16.0      8370  \n",
       "1                 6.0                14.0     15200  \n",
       "2                 8.0                16.0      1422  \n",
       "3                14.0                16.0      1057  \n",
       "4                 8.0                16.0      7969  "
      ]
     },
     "execution_count": 20,
     "metadata": {},
     "output_type": "execute_result"
    }
   ],
   "source": [
    "black_friday.head()"
   ]
  },
  {
   "cell_type": "markdown",
   "id": "7735eb9f",
   "metadata": {},
   "source": [
    "##### Use label encoder to convert labels into categorical form"
   ]
  },
  {
   "cell_type": "code",
   "execution_count": 21,
   "id": "8cddb9e8",
   "metadata": {},
   "outputs": [],
   "source": [
    "from sklearn.preprocessing import LabelEncoder"
   ]
  },
  {
   "cell_type": "code",
   "execution_count": 22,
   "id": "3b8a9727",
   "metadata": {},
   "outputs": [],
   "source": [
    "le = LabelEncoder()"
   ]
  },
  {
   "cell_type": "code",
   "execution_count": 23,
   "id": "f239b05c",
   "metadata": {},
   "outputs": [],
   "source": [
    "#encoding data into into labels for easy computing\n",
    "black_friday = black_friday.apply(le.fit_transform)"
   ]
  },
  {
   "cell_type": "code",
   "execution_count": 24,
   "id": "73f43b4e",
   "metadata": {},
   "outputs": [
    {
     "data": {
      "text/html": [
       "<div>\n",
       "<style scoped>\n",
       "    .dataframe tbody tr th:only-of-type {\n",
       "        vertical-align: middle;\n",
       "    }\n",
       "\n",
       "    .dataframe tbody tr th {\n",
       "        vertical-align: top;\n",
       "    }\n",
       "\n",
       "    .dataframe thead th {\n",
       "        text-align: right;\n",
       "    }\n",
       "</style>\n",
       "<table border=\"1\" class=\"dataframe\">\n",
       "  <thead>\n",
       "    <tr style=\"text-align: right;\">\n",
       "      <th></th>\n",
       "      <th>User_ID</th>\n",
       "      <th>Product_ID</th>\n",
       "      <th>Gender</th>\n",
       "      <th>Age</th>\n",
       "      <th>Occupation</th>\n",
       "      <th>City_Category</th>\n",
       "      <th>Stay_In_Current_City_Years</th>\n",
       "      <th>Marital_Status</th>\n",
       "      <th>Product_Category_1</th>\n",
       "      <th>Product_Category_2</th>\n",
       "      <th>Product_Category_3</th>\n",
       "      <th>Purchase</th>\n",
       "    </tr>\n",
       "  </thead>\n",
       "  <tbody>\n",
       "    <tr>\n",
       "      <th>0</th>\n",
       "      <td>0</td>\n",
       "      <td>672</td>\n",
       "      <td>0</td>\n",
       "      <td>1</td>\n",
       "      <td>10</td>\n",
       "      <td>0</td>\n",
       "      <td>2</td>\n",
       "      <td>0</td>\n",
       "      <td>2</td>\n",
       "      <td>6</td>\n",
       "      <td>12</td>\n",
       "      <td>6702</td>\n",
       "    </tr>\n",
       "    <tr>\n",
       "      <th>1</th>\n",
       "      <td>0</td>\n",
       "      <td>2376</td>\n",
       "      <td>0</td>\n",
       "      <td>1</td>\n",
       "      <td>10</td>\n",
       "      <td>0</td>\n",
       "      <td>2</td>\n",
       "      <td>0</td>\n",
       "      <td>0</td>\n",
       "      <td>4</td>\n",
       "      <td>10</td>\n",
       "      <td>12121</td>\n",
       "    </tr>\n",
       "    <tr>\n",
       "      <th>2</th>\n",
       "      <td>0</td>\n",
       "      <td>852</td>\n",
       "      <td>0</td>\n",
       "      <td>1</td>\n",
       "      <td>10</td>\n",
       "      <td>0</td>\n",
       "      <td>2</td>\n",
       "      <td>0</td>\n",
       "      <td>11</td>\n",
       "      <td>6</td>\n",
       "      <td>12</td>\n",
       "      <td>586</td>\n",
       "    </tr>\n",
       "    <tr>\n",
       "      <th>3</th>\n",
       "      <td>0</td>\n",
       "      <td>828</td>\n",
       "      <td>0</td>\n",
       "      <td>1</td>\n",
       "      <td>10</td>\n",
       "      <td>0</td>\n",
       "      <td>2</td>\n",
       "      <td>0</td>\n",
       "      <td>11</td>\n",
       "      <td>12</td>\n",
       "      <td>12</td>\n",
       "      <td>494</td>\n",
       "    </tr>\n",
       "    <tr>\n",
       "      <th>4</th>\n",
       "      <td>1</td>\n",
       "      <td>2734</td>\n",
       "      <td>1</td>\n",
       "      <td>2</td>\n",
       "      <td>16</td>\n",
       "      <td>2</td>\n",
       "      <td>4</td>\n",
       "      <td>0</td>\n",
       "      <td>7</td>\n",
       "      <td>6</td>\n",
       "      <td>12</td>\n",
       "      <td>6301</td>\n",
       "    </tr>\n",
       "  </tbody>\n",
       "</table>\n",
       "</div>"
      ],
      "text/plain": [
       "   User_ID  Product_ID  Gender  Age  Occupation  City_Category  \\\n",
       "0        0         672       0    1          10              0   \n",
       "1        0        2376       0    1          10              0   \n",
       "2        0         852       0    1          10              0   \n",
       "3        0         828       0    1          10              0   \n",
       "4        1        2734       1    2          16              2   \n",
       "\n",
       "   Stay_In_Current_City_Years  Marital_Status  Product_Category_1  \\\n",
       "0                           2               0                   2   \n",
       "1                           2               0                   0   \n",
       "2                           2               0                  11   \n",
       "3                           2               0                  11   \n",
       "4                           4               0                   7   \n",
       "\n",
       "   Product_Category_2  Product_Category_3  Purchase  \n",
       "0                   6                  12      6702  \n",
       "1                   4                  10     12121  \n",
       "2                   6                  12       586  \n",
       "3                  12                  12       494  \n",
       "4                   6                  12      6301  "
      ]
     },
     "execution_count": 24,
     "metadata": {},
     "output_type": "execute_result"
    }
   ],
   "source": [
    "black_friday.head()"
   ]
  },
  {
   "cell_type": "markdown",
   "id": "0e8d1f5f",
   "metadata": {},
   "source": [
    "###### Correlation Matrix "
   ]
  },
  {
   "cell_type": "code",
   "execution_count": 25,
   "id": "3aa8db07",
   "metadata": {},
   "outputs": [
    {
     "data": {
      "text/plain": [
       "<AxesSubplot:>"
      ]
     },
     "execution_count": 25,
     "metadata": {},
     "output_type": "execute_result"
    },
    {
     "data": {
      "image/png": "[encoded data removed]",
      "text/plain": [
       "<Figure size 792x432 with 2 Axes>"
      ]
     },
     "metadata": {
      "needs_background": "light"
     },
     "output_type": "display_data"
    }
   ],
   "source": [
    "correlation = black_friday.corr()\n",
    "plt.figure(figsize=(11,6))\n",
    "sns.heatmap(correlation, annot = True, cmap = 'Blues')"
   ]
  },
  {
   "cell_type": "markdown",
   "id": "e6f24681",
   "metadata": {},
   "source": [
    "##### Drop unwanted columns;\n",
    "User ID and Product ID"
   ]
  },
  {
   "cell_type": "code",
   "execution_count": 26,
   "id": "ace88a47",
   "metadata": {},
   "outputs": [
    {
     "data": {
      "text/html": [
       "<div>\n",
       "<style scoped>\n",
       "    .dataframe tbody tr th:only-of-type {\n",
       "        vertical-align: middle;\n",
       "    }\n",
       "\n",
       "    .dataframe tbody tr th {\n",
       "        vertical-align: top;\n",
       "    }\n",
       "\n",
       "    .dataframe thead th {\n",
       "        text-align: right;\n",
       "    }\n",
       "</style>\n",
       "<table border=\"1\" class=\"dataframe\">\n",
       "  <thead>\n",
       "    <tr style=\"text-align: right;\">\n",
       "      <th></th>\n",
       "      <th>Gender</th>\n",
       "      <th>Age</th>\n",
       "      <th>Occupation</th>\n",
       "      <th>City_Category</th>\n",
       "      <th>Stay_In_Current_City_Years</th>\n",
       "      <th>Marital_Status</th>\n",
       "      <th>Product_Category_1</th>\n",
       "      <th>Product_Category_2</th>\n",
       "      <th>Product_Category_3</th>\n",
       "      <th>Purchase</th>\n",
       "    </tr>\n",
       "  </thead>\n",
       "  <tbody>\n",
       "    <tr>\n",
       "      <th>0</th>\n",
       "      <td>0</td>\n",
       "      <td>1</td>\n",
       "      <td>10</td>\n",
       "      <td>0</td>\n",
       "      <td>2</td>\n",
       "      <td>0</td>\n",
       "      <td>2</td>\n",
       "      <td>6</td>\n",
       "      <td>12</td>\n",
       "      <td>6702</td>\n",
       "    </tr>\n",
       "    <tr>\n",
       "      <th>1</th>\n",
       "      <td>0</td>\n",
       "      <td>1</td>\n",
       "      <td>10</td>\n",
       "      <td>0</td>\n",
       "      <td>2</td>\n",
       "      <td>0</td>\n",
       "      <td>0</td>\n",
       "      <td>4</td>\n",
       "      <td>10</td>\n",
       "      <td>12121</td>\n",
       "    </tr>\n",
       "    <tr>\n",
       "      <th>2</th>\n",
       "      <td>0</td>\n",
       "      <td>1</td>\n",
       "      <td>10</td>\n",
       "      <td>0</td>\n",
       "      <td>2</td>\n",
       "      <td>0</td>\n",
       "      <td>11</td>\n",
       "      <td>6</td>\n",
       "      <td>12</td>\n",
       "      <td>586</td>\n",
       "    </tr>\n",
       "    <tr>\n",
       "      <th>3</th>\n",
       "      <td>0</td>\n",
       "      <td>1</td>\n",
       "      <td>10</td>\n",
       "      <td>0</td>\n",
       "      <td>2</td>\n",
       "      <td>0</td>\n",
       "      <td>11</td>\n",
       "      <td>12</td>\n",
       "      <td>12</td>\n",
       "      <td>494</td>\n",
       "    </tr>\n",
       "    <tr>\n",
       "      <th>4</th>\n",
       "      <td>1</td>\n",
       "      <td>2</td>\n",
       "      <td>16</td>\n",
       "      <td>2</td>\n",
       "      <td>4</td>\n",
       "      <td>0</td>\n",
       "      <td>7</td>\n",
       "      <td>6</td>\n",
       "      <td>12</td>\n",
       "      <td>6301</td>\n",
       "    </tr>\n",
       "    <tr>\n",
       "      <th>...</th>\n",
       "      <td>...</td>\n",
       "      <td>...</td>\n",
       "      <td>...</td>\n",
       "      <td>...</td>\n",
       "      <td>...</td>\n",
       "      <td>...</td>\n",
       "      <td>...</td>\n",
       "      <td>...</td>\n",
       "      <td>...</td>\n",
       "      <td>...</td>\n",
       "    </tr>\n",
       "    <tr>\n",
       "      <th>550063</th>\n",
       "      <td>1</td>\n",
       "      <td>2</td>\n",
       "      <td>13</td>\n",
       "      <td>1</td>\n",
       "      <td>1</td>\n",
       "      <td>1</td>\n",
       "      <td>19</td>\n",
       "      <td>6</td>\n",
       "      <td>12</td>\n",
       "      <td>126</td>\n",
       "    </tr>\n",
       "    <tr>\n",
       "      <th>550064</th>\n",
       "      <td>0</td>\n",
       "      <td>0</td>\n",
       "      <td>1</td>\n",
       "      <td>2</td>\n",
       "      <td>3</td>\n",
       "      <td>0</td>\n",
       "      <td>19</td>\n",
       "      <td>6</td>\n",
       "      <td>12</td>\n",
       "      <td>129</td>\n",
       "    </tr>\n",
       "    <tr>\n",
       "      <th>550065</th>\n",
       "      <td>0</td>\n",
       "      <td>0</td>\n",
       "      <td>15</td>\n",
       "      <td>1</td>\n",
       "      <td>4</td>\n",
       "      <td>1</td>\n",
       "      <td>19</td>\n",
       "      <td>6</td>\n",
       "      <td>12</td>\n",
       "      <td>34</td>\n",
       "    </tr>\n",
       "    <tr>\n",
       "      <th>550066</th>\n",
       "      <td>0</td>\n",
       "      <td>2</td>\n",
       "      <td>1</td>\n",
       "      <td>2</td>\n",
       "      <td>2</td>\n",
       "      <td>0</td>\n",
       "      <td>19</td>\n",
       "      <td>6</td>\n",
       "      <td>12</td>\n",
       "      <td>123</td>\n",
       "    </tr>\n",
       "    <tr>\n",
       "      <th>550067</th>\n",
       "      <td>0</td>\n",
       "      <td>0</td>\n",
       "      <td>0</td>\n",
       "      <td>1</td>\n",
       "      <td>4</td>\n",
       "      <td>1</td>\n",
       "      <td>19</td>\n",
       "      <td>6</td>\n",
       "      <td>12</td>\n",
       "      <td>186</td>\n",
       "    </tr>\n",
       "  </tbody>\n",
       "</table>\n",
       "<p>550068 rows × 10 columns</p>\n",
       "</div>"
      ],
      "text/plain": [
       "        Gender  Age  Occupation  City_Category  Stay_In_Current_City_Years  \\\n",
       "0            0    1          10              0                           2   \n",
       "1            0    1          10              0                           2   \n",
       "2            0    1          10              0                           2   \n",
       "3            0    1          10              0                           2   \n",
       "4            1    2          16              2                           4   \n",
       "...        ...  ...         ...            ...                         ...   \n",
       "550063       1    2          13              1                           1   \n",
       "550064       0    0           1              2                           3   \n",
       "550065       0    0          15              1                           4   \n",
       "550066       0    2           1              2                           2   \n",
       "550067       0    0           0              1                           4   \n",
       "\n",
       "        Marital_Status  Product_Category_1  Product_Category_2  \\\n",
       "0                    0                   2                   6   \n",
       "1                    0                   0                   4   \n",
       "2                    0                  11                   6   \n",
       "3                    0                  11                  12   \n",
       "4                    0                   7                   6   \n",
       "...                ...                 ...                 ...   \n",
       "550063               1                  19                   6   \n",
       "550064               0                  19                   6   \n",
       "550065               1                  19                   6   \n",
       "550066               0                  19                   6   \n",
       "550067               1                  19                   6   \n",
       "\n",
       "        Product_Category_3  Purchase  \n",
       "0                       12      6702  \n",
       "1                       10     12121  \n",
       "2                       12       586  \n",
       "3                       12       494  \n",
       "4                       12      6301  \n",
       "...                    ...       ...  \n",
       "550063                  12       126  \n",
       "550064                  12       129  \n",
       "550065                  12        34  \n",
       "550066                  12       123  \n",
       "550067                  12       186  \n",
       "\n",
       "[550068 rows x 10 columns]"
      ]
     },
     "execution_count": 26,
     "metadata": {},
     "output_type": "execute_result"
    }
   ],
   "source": [
    "black_friday = black_friday.drop(['User_ID', 'Product_ID'], axis=1)\n",
    "black_friday"
   ]
  },
  {
   "cell_type": "code",
   "execution_count": 27,
   "id": "1873e82f",
   "metadata": {},
   "outputs": [
    {
     "data": {
      "text/html": [
       "<div>\n",
       "<style scoped>\n",
       "    .dataframe tbody tr th:only-of-type {\n",
       "        vertical-align: middle;\n",
       "    }\n",
       "\n",
       "    .dataframe tbody tr th {\n",
       "        vertical-align: top;\n",
       "    }\n",
       "\n",
       "    .dataframe thead th {\n",
       "        text-align: right;\n",
       "    }\n",
       "</style>\n",
       "<table border=\"1\" class=\"dataframe\">\n",
       "  <thead>\n",
       "    <tr style=\"text-align: right;\">\n",
       "      <th></th>\n",
       "      <th>Gender</th>\n",
       "      <th>Age</th>\n",
       "      <th>Occupation</th>\n",
       "      <th>City_Category</th>\n",
       "      <th>Stay_In_Current_City_Years</th>\n",
       "      <th>Marital_Status</th>\n",
       "      <th>Product_Category_1</th>\n",
       "      <th>Product_Category_2</th>\n",
       "      <th>Product_Category_3</th>\n",
       "      <th>Purchase</th>\n",
       "    </tr>\n",
       "  </thead>\n",
       "  <tbody>\n",
       "    <tr>\n",
       "      <th>count</th>\n",
       "      <td>550068.000000</td>\n",
       "      <td>550068.000000</td>\n",
       "      <td>550068.000000</td>\n",
       "      <td>550068.000000</td>\n",
       "      <td>550068.000000</td>\n",
       "      <td>550068.000000</td>\n",
       "      <td>550068.000000</td>\n",
       "      <td>550068.000000</td>\n",
       "      <td>550068.000000</td>\n",
       "      <td>550068.000000</td>\n",
       "    </tr>\n",
       "    <tr>\n",
       "      <th>mean</th>\n",
       "      <td>0.753105</td>\n",
       "      <td>0.789161</td>\n",
       "      <td>8.076707</td>\n",
       "      <td>1.042640</td>\n",
       "      <td>1.858418</td>\n",
       "      <td>0.409653</td>\n",
       "      <td>4.404270</td>\n",
       "      <td>7.260768</td>\n",
       "      <td>11.033263</td>\n",
       "      <td>7279.687840</td>\n",
       "    </tr>\n",
       "    <tr>\n",
       "      <th>std</th>\n",
       "      <td>0.431205</td>\n",
       "      <td>1.213107</td>\n",
       "      <td>6.522660</td>\n",
       "      <td>0.760211</td>\n",
       "      <td>1.289443</td>\n",
       "      <td>0.491770</td>\n",
       "      <td>3.936211</td>\n",
       "      <td>4.294093</td>\n",
       "      <td>2.584962</td>\n",
       "      <td>4099.665612</td>\n",
       "    </tr>\n",
       "    <tr>\n",
       "      <th>min</th>\n",
       "      <td>0.000000</td>\n",
       "      <td>0.000000</td>\n",
       "      <td>0.000000</td>\n",
       "      <td>0.000000</td>\n",
       "      <td>0.000000</td>\n",
       "      <td>0.000000</td>\n",
       "      <td>0.000000</td>\n",
       "      <td>0.000000</td>\n",
       "      <td>0.000000</td>\n",
       "      <td>0.000000</td>\n",
       "    </tr>\n",
       "    <tr>\n",
       "      <th>25%</th>\n",
       "      <td>1.000000</td>\n",
       "      <td>0.000000</td>\n",
       "      <td>2.000000</td>\n",
       "      <td>0.000000</td>\n",
       "      <td>1.000000</td>\n",
       "      <td>0.000000</td>\n",
       "      <td>0.000000</td>\n",
       "      <td>6.000000</td>\n",
       "      <td>12.000000</td>\n",
       "      <td>4448.000000</td>\n",
       "    </tr>\n",
       "    <tr>\n",
       "      <th>50%</th>\n",
       "      <td>1.000000</td>\n",
       "      <td>0.000000</td>\n",
       "      <td>7.000000</td>\n",
       "      <td>1.000000</td>\n",
       "      <td>2.000000</td>\n",
       "      <td>0.000000</td>\n",
       "      <td>4.000000</td>\n",
       "      <td>6.000000</td>\n",
       "      <td>12.000000</td>\n",
       "      <td>6379.000000</td>\n",
       "    </tr>\n",
       "    <tr>\n",
       "      <th>75%</th>\n",
       "      <td>1.000000</td>\n",
       "      <td>2.000000</td>\n",
       "      <td>14.000000</td>\n",
       "      <td>2.000000</td>\n",
       "      <td>3.000000</td>\n",
       "      <td>1.000000</td>\n",
       "      <td>7.000000</td>\n",
       "      <td>12.000000</td>\n",
       "      <td>12.000000</td>\n",
       "      <td>9590.000000</td>\n",
       "    </tr>\n",
       "    <tr>\n",
       "      <th>max</th>\n",
       "      <td>1.000000</td>\n",
       "      <td>3.000000</td>\n",
       "      <td>20.000000</td>\n",
       "      <td>2.000000</td>\n",
       "      <td>4.000000</td>\n",
       "      <td>1.000000</td>\n",
       "      <td>19.000000</td>\n",
       "      <td>16.000000</td>\n",
       "      <td>14.000000</td>\n",
       "      <td>18104.000000</td>\n",
       "    </tr>\n",
       "  </tbody>\n",
       "</table>\n",
       "</div>"
      ],
      "text/plain": [
       "              Gender            Age     Occupation  City_Category  \\\n",
       "count  550068.000000  550068.000000  550068.000000  550068.000000   \n",
       "mean        0.753105       0.789161       8.076707       1.042640   \n",
       "std         0.431205       1.213107       6.522660       0.760211   \n",
       "min         0.000000       0.000000       0.000000       0.000000   \n",
       "25%         1.000000       0.000000       2.000000       0.000000   \n",
       "50%         1.000000       0.000000       7.000000       1.000000   \n",
       "75%         1.000000       2.000000      14.000000       2.000000   \n",
       "max         1.000000       3.000000      20.000000       2.000000   \n",
       "\n",
       "       Stay_In_Current_City_Years  Marital_Status  Product_Category_1  \\\n",
       "count               550068.000000   550068.000000       550068.000000   \n",
       "mean                     1.858418        0.409653            4.404270   \n",
       "std                      1.289443        0.491770            3.936211   \n",
       "min                      0.000000        0.000000            0.000000   \n",
       "25%                      1.000000        0.000000            0.000000   \n",
       "50%                      2.000000        0.000000            4.000000   \n",
       "75%                      3.000000        1.000000            7.000000   \n",
       "max                      4.000000        1.000000           19.000000   \n",
       "\n",
       "       Product_Category_2  Product_Category_3       Purchase  \n",
       "count       550068.000000       550068.000000  550068.000000  \n",
       "mean             7.260768           11.033263    7279.687840  \n",
       "std              4.294093            2.584962    4099.665612  \n",
       "min              0.000000            0.000000       0.000000  \n",
       "25%              6.000000           12.000000    4448.000000  \n",
       "50%              6.000000           12.000000    6379.000000  \n",
       "75%             12.000000           12.000000    9590.000000  \n",
       "max             16.000000           14.000000   18104.000000  "
      ]
     },
     "execution_count": 27,
     "metadata": {},
     "output_type": "execute_result"
    }
   ],
   "source": [
    "#checking the descriptive statistics of the dataset\n",
    "black_friday.describe()"
   ]
  },
  {
   "cell_type": "code",
   "execution_count": 28,
   "id": "d24502dd",
   "metadata": {},
   "outputs": [],
   "source": [
    "x = black_friday.drop(['Purchase'], axis = 1)\n",
    "y = black_friday['Purchase']"
   ]
  },
  {
   "cell_type": "code",
   "execution_count": 29,
   "id": "2f032972",
   "metadata": {},
   "outputs": [
    {
     "data": {
      "text/html": [
       "<div>\n",
       "<style scoped>\n",
       "    .dataframe tbody tr th:only-of-type {\n",
       "        vertical-align: middle;\n",
       "    }\n",
       "\n",
       "    .dataframe tbody tr th {\n",
       "        vertical-align: top;\n",
       "    }\n",
       "\n",
       "    .dataframe thead th {\n",
       "        text-align: right;\n",
       "    }\n",
       "</style>\n",
       "<table border=\"1\" class=\"dataframe\">\n",
       "  <thead>\n",
       "    <tr style=\"text-align: right;\">\n",
       "      <th></th>\n",
       "      <th>Gender</th>\n",
       "      <th>Age</th>\n",
       "      <th>Occupation</th>\n",
       "      <th>City_Category</th>\n",
       "      <th>Stay_In_Current_City_Years</th>\n",
       "      <th>Marital_Status</th>\n",
       "      <th>Product_Category_1</th>\n",
       "      <th>Product_Category_2</th>\n",
       "      <th>Product_Category_3</th>\n",
       "    </tr>\n",
       "  </thead>\n",
       "  <tbody>\n",
       "    <tr>\n",
       "      <th>0</th>\n",
       "      <td>0</td>\n",
       "      <td>1</td>\n",
       "      <td>10</td>\n",
       "      <td>0</td>\n",
       "      <td>2</td>\n",
       "      <td>0</td>\n",
       "      <td>2</td>\n",
       "      <td>6</td>\n",
       "      <td>12</td>\n",
       "    </tr>\n",
       "    <tr>\n",
       "      <th>1</th>\n",
       "      <td>0</td>\n",
       "      <td>1</td>\n",
       "      <td>10</td>\n",
       "      <td>0</td>\n",
       "      <td>2</td>\n",
       "      <td>0</td>\n",
       "      <td>0</td>\n",
       "      <td>4</td>\n",
       "      <td>10</td>\n",
       "    </tr>\n",
       "    <tr>\n",
       "      <th>2</th>\n",
       "      <td>0</td>\n",
       "      <td>1</td>\n",
       "      <td>10</td>\n",
       "      <td>0</td>\n",
       "      <td>2</td>\n",
       "      <td>0</td>\n",
       "      <td>11</td>\n",
       "      <td>6</td>\n",
       "      <td>12</td>\n",
       "    </tr>\n",
       "    <tr>\n",
       "      <th>3</th>\n",
       "      <td>0</td>\n",
       "      <td>1</td>\n",
       "      <td>10</td>\n",
       "      <td>0</td>\n",
       "      <td>2</td>\n",
       "      <td>0</td>\n",
       "      <td>11</td>\n",
       "      <td>12</td>\n",
       "      <td>12</td>\n",
       "    </tr>\n",
       "    <tr>\n",
       "      <th>4</th>\n",
       "      <td>1</td>\n",
       "      <td>2</td>\n",
       "      <td>16</td>\n",
       "      <td>2</td>\n",
       "      <td>4</td>\n",
       "      <td>0</td>\n",
       "      <td>7</td>\n",
       "      <td>6</td>\n",
       "      <td>12</td>\n",
       "    </tr>\n",
       "    <tr>\n",
       "      <th>...</th>\n",
       "      <td>...</td>\n",
       "      <td>...</td>\n",
       "      <td>...</td>\n",
       "      <td>...</td>\n",
       "      <td>...</td>\n",
       "      <td>...</td>\n",
       "      <td>...</td>\n",
       "      <td>...</td>\n",
       "      <td>...</td>\n",
       "    </tr>\n",
       "    <tr>\n",
       "      <th>550063</th>\n",
       "      <td>1</td>\n",
       "      <td>2</td>\n",
       "      <td>13</td>\n",
       "      <td>1</td>\n",
       "      <td>1</td>\n",
       "      <td>1</td>\n",
       "      <td>19</td>\n",
       "      <td>6</td>\n",
       "      <td>12</td>\n",
       "    </tr>\n",
       "    <tr>\n",
       "      <th>550064</th>\n",
       "      <td>0</td>\n",
       "      <td>0</td>\n",
       "      <td>1</td>\n",
       "      <td>2</td>\n",
       "      <td>3</td>\n",
       "      <td>0</td>\n",
       "      <td>19</td>\n",
       "      <td>6</td>\n",
       "      <td>12</td>\n",
       "    </tr>\n",
       "    <tr>\n",
       "      <th>550065</th>\n",
       "      <td>0</td>\n",
       "      <td>0</td>\n",
       "      <td>15</td>\n",
       "      <td>1</td>\n",
       "      <td>4</td>\n",
       "      <td>1</td>\n",
       "      <td>19</td>\n",
       "      <td>6</td>\n",
       "      <td>12</td>\n",
       "    </tr>\n",
       "    <tr>\n",
       "      <th>550066</th>\n",
       "      <td>0</td>\n",
       "      <td>2</td>\n",
       "      <td>1</td>\n",
       "      <td>2</td>\n",
       "      <td>2</td>\n",
       "      <td>0</td>\n",
       "      <td>19</td>\n",
       "      <td>6</td>\n",
       "      <td>12</td>\n",
       "    </tr>\n",
       "    <tr>\n",
       "      <th>550067</th>\n",
       "      <td>0</td>\n",
       "      <td>0</td>\n",
       "      <td>0</td>\n",
       "      <td>1</td>\n",
       "      <td>4</td>\n",
       "      <td>1</td>\n",
       "      <td>19</td>\n",
       "      <td>6</td>\n",
       "      <td>12</td>\n",
       "    </tr>\n",
       "  </tbody>\n",
       "</table>\n",
       "<p>550068 rows × 9 columns</p>\n",
       "</div>"
      ],
      "text/plain": [
       "        Gender  Age  Occupation  City_Category  Stay_In_Current_City_Years  \\\n",
       "0            0    1          10              0                           2   \n",
       "1            0    1          10              0                           2   \n",
       "2            0    1          10              0                           2   \n",
       "3            0    1          10              0                           2   \n",
       "4            1    2          16              2                           4   \n",
       "...        ...  ...         ...            ...                         ...   \n",
       "550063       1    2          13              1                           1   \n",
       "550064       0    0           1              2                           3   \n",
       "550065       0    0          15              1                           4   \n",
       "550066       0    2           1              2                           2   \n",
       "550067       0    0           0              1                           4   \n",
       "\n",
       "        Marital_Status  Product_Category_1  Product_Category_2  \\\n",
       "0                    0                   2                   6   \n",
       "1                    0                   0                   4   \n",
       "2                    0                  11                   6   \n",
       "3                    0                  11                  12   \n",
       "4                    0                   7                   6   \n",
       "...                ...                 ...                 ...   \n",
       "550063               1                  19                   6   \n",
       "550064               0                  19                   6   \n",
       "550065               1                  19                   6   \n",
       "550066               0                  19                   6   \n",
       "550067               1                  19                   6   \n",
       "\n",
       "        Product_Category_3  \n",
       "0                       12  \n",
       "1                       10  \n",
       "2                       12  \n",
       "3                       12  \n",
       "4                       12  \n",
       "...                    ...  \n",
       "550063                  12  \n",
       "550064                  12  \n",
       "550065                  12  \n",
       "550066                  12  \n",
       "550067                  12  \n",
       "\n",
       "[550068 rows x 9 columns]"
      ]
     },
     "execution_count": 29,
     "metadata": {},
     "output_type": "execute_result"
    }
   ],
   "source": [
    "x"
   ]
  },
  {
   "cell_type": "code",
   "execution_count": 30,
   "id": "aafb5c1b",
   "metadata": {},
   "outputs": [
    {
     "data": {
      "text/html": [
       "<div>\n",
       "<style scoped>\n",
       "    .dataframe tbody tr th:only-of-type {\n",
       "        vertical-align: middle;\n",
       "    }\n",
       "\n",
       "    .dataframe tbody tr th {\n",
       "        vertical-align: top;\n",
       "    }\n",
       "\n",
       "    .dataframe thead th {\n",
       "        text-align: right;\n",
       "    }\n",
       "</style>\n",
       "<table border=\"1\" class=\"dataframe\">\n",
       "  <thead>\n",
       "    <tr style=\"text-align: right;\">\n",
       "      <th></th>\n",
       "      <th>Purchase</th>\n",
       "    </tr>\n",
       "  </thead>\n",
       "  <tbody>\n",
       "    <tr>\n",
       "      <th>0</th>\n",
       "      <td>6702</td>\n",
       "    </tr>\n",
       "    <tr>\n",
       "      <th>1</th>\n",
       "      <td>12121</td>\n",
       "    </tr>\n",
       "    <tr>\n",
       "      <th>2</th>\n",
       "      <td>586</td>\n",
       "    </tr>\n",
       "    <tr>\n",
       "      <th>3</th>\n",
       "      <td>494</td>\n",
       "    </tr>\n",
       "    <tr>\n",
       "      <th>4</th>\n",
       "      <td>6301</td>\n",
       "    </tr>\n",
       "    <tr>\n",
       "      <th>...</th>\n",
       "      <td>...</td>\n",
       "    </tr>\n",
       "    <tr>\n",
       "      <th>550063</th>\n",
       "      <td>126</td>\n",
       "    </tr>\n",
       "    <tr>\n",
       "      <th>550064</th>\n",
       "      <td>129</td>\n",
       "    </tr>\n",
       "    <tr>\n",
       "      <th>550065</th>\n",
       "      <td>34</td>\n",
       "    </tr>\n",
       "    <tr>\n",
       "      <th>550066</th>\n",
       "      <td>123</td>\n",
       "    </tr>\n",
       "    <tr>\n",
       "      <th>550067</th>\n",
       "      <td>186</td>\n",
       "    </tr>\n",
       "  </tbody>\n",
       "</table>\n",
       "<p>550068 rows × 1 columns</p>\n",
       "</div>"
      ],
      "text/plain": [
       "        Purchase\n",
       "0           6702\n",
       "1          12121\n",
       "2            586\n",
       "3            494\n",
       "4           6301\n",
       "...          ...\n",
       "550063       126\n",
       "550064       129\n",
       "550065        34\n",
       "550066       123\n",
       "550067       186\n",
       "\n",
       "[550068 rows x 1 columns]"
      ]
     },
     "execution_count": 30,
     "metadata": {},
     "output_type": "execute_result"
    }
   ],
   "source": [
    "pd.DataFrame(y)"
   ]
  },
  {
   "cell_type": "markdown",
   "id": "13737152",
   "metadata": {},
   "source": [
    "##### Model  Training"
   ]
  },
  {
   "cell_type": "code",
   "execution_count": 31,
   "id": "4bb9888b",
   "metadata": {},
   "outputs": [],
   "source": [
    "from sklearn.model_selection import train_test_split\n",
    "x_train, x_test, y_train, y_test = train_test_split(x, y, test_size = 0.2, random_state = 15)"
   ]
  },
  {
   "cell_type": "code",
   "execution_count": 32,
   "id": "5ab9a668",
   "metadata": {},
   "outputs": [
    {
     "data": {
      "text/plain": [
       "440054"
      ]
     },
     "execution_count": 32,
     "metadata": {},
     "output_type": "execute_result"
    }
   ],
   "source": [
    "len(x_train)"
   ]
  },
  {
   "cell_type": "code",
   "execution_count": 33,
   "id": "867ac077",
   "metadata": {
    "scrolled": true
   },
   "outputs": [
    {
     "data": {
      "text/plain": [
       "110014"
      ]
     },
     "execution_count": 33,
     "metadata": {},
     "output_type": "execute_result"
    }
   ],
   "source": [
    "len(x_test)"
   ]
  },
  {
   "cell_type": "markdown",
   "id": "df202769",
   "metadata": {},
   "source": [
    "#### Feature Scaling with Standard Scaler "
   ]
  },
  {
   "cell_type": "code",
   "execution_count": 34,
   "id": "6ac8c84a",
   "metadata": {},
   "outputs": [],
   "source": [
    "from sklearn.preprocessing import StandardScaler\n",
    "# define standard scaler\n",
    "ss = StandardScaler()\n",
    "# transform data\n",
    "x_train = ss.fit_transform(x_train)\n",
    "x_test = ss.transform(x_test)"
   ]
  },
  {
   "cell_type": "markdown",
   "id": "0ee8942f",
   "metadata": {},
   "source": [
    "### Using Linear Regression Model \n",
    "\n",
    "Training the model"
   ]
  },
  {
   "cell_type": "code",
   "execution_count": 35,
   "id": "ba7b5467",
   "metadata": {},
   "outputs": [
    {
     "name": "stdout",
     "output_type": "stream",
     "text": [
      "Model successfully trained\n"
     ]
    }
   ],
   "source": [
    "from sklearn.linear_model import LinearRegression\n",
    "lr = LinearRegression()\n",
    "lr.fit(x_train, y_train)\n",
    "print('Model successfully trained')"
   ]
  },
  {
   "cell_type": "markdown",
   "id": "c4d9f214",
   "metadata": {},
   "source": [
    "#### Estimating the Training Prediction\n",
    "\n",
    "y_train and y_pred should be matched for a successful prediction"
   ]
  },
  {
   "cell_type": "code",
   "execution_count": 36,
   "id": "90414bbf",
   "metadata": {},
   "outputs": [],
   "source": [
    "# predicting y values with x_test\n",
    "ypred = lr.predict(x_train)"
   ]
  },
  {
   "cell_type": "code",
   "execution_count": 37,
   "id": "8d643594",
   "metadata": {},
   "outputs": [
    {
     "data": {
      "image/png": "[encoded data removed]",
      "text/plain": [
       "<Figure size 792x648 with 1 Axes>"
      ]
     },
     "metadata": {
      "needs_background": "light"
     },
     "output_type": "display_data"
    }
   ],
   "source": [
    "plt.figure(figsize=(11, 9))\n",
    "plt.scatter(y_train, ypred, s=5)\n",
    "plt.title('y_train vs ypred')\n",
    "plt.xlabel('y_train')\n",
    "plt.ylabel('ypred')\n",
    "plt.show()"
   ]
  },
  {
   "cell_type": "code",
   "execution_count": 38,
   "id": "8770371b",
   "metadata": {},
   "outputs": [
    {
     "data": {
      "image/png": "[encoded data removed]",
      "text/plain": [
       "<Figure size 720x432 with 1 Axes>"
      ]
     },
     "metadata": {
      "needs_background": "light"
     },
     "output_type": "display_data"
    }
   ],
   "source": [
    "# setting the dimensions of the plot\n",
    "fig, ax = plt.subplots(figsize=(10, 6))\n",
    "# drawing the plot\n",
    "sns.distplot(y_train-ypred, ax = ax)\n",
    "plt.show()"
   ]
  },
  {
   "cell_type": "markdown",
   "id": "6a84e774",
   "metadata": {},
   "source": [
    "#### Testing the model"
   ]
  },
  {
   "cell_type": "code",
   "execution_count": 39,
   "id": "1e277f0f",
   "metadata": {},
   "outputs": [],
   "source": [
    "ypred_test = lr.predict(x_test)"
   ]
  },
  {
   "cell_type": "code",
   "execution_count": 40,
   "id": "b6ec26ba",
   "metadata": {},
   "outputs": [
    {
     "data": {
      "image/png": "[encoded data removed]",
      "text/plain": [
       "<Figure size 792x648 with 1 Axes>"
      ]
     },
     "metadata": {
      "needs_background": "light"
     },
     "output_type": "display_data"
    }
   ],
   "source": [
    "plt.figure(figsize=(11, 9))\n",
    "plt.scatter(y_test,ypred_test, s=5)\n",
    "plt.title('y_test vs ypred_test')\n",
    "plt.xlabel('y_test')\n",
    "plt.ylabel('ypred_test')\n",
    "plt.show()"
   ]
  },
  {
   "cell_type": "code",
   "execution_count": 41,
   "id": "a14fe323",
   "metadata": {},
   "outputs": [
    {
     "data": {
      "image/png": "[encoded data removed]",
      "text/plain": [
       "<Figure size 720x432 with 1 Axes>"
      ]
     },
     "metadata": {
      "needs_background": "light"
     },
     "output_type": "display_data"
    }
   ],
   "source": [
    "fig, ax = plt.subplots(figsize=(10, 6))\n",
    "# drawing the plot\n",
    "sns.distplot(y_test-ypred_test, ax = ax)\n",
    "plt.show()"
   ]
  },
  {
   "cell_type": "markdown",
   "id": "9db09ee1",
   "metadata": {},
   "source": [
    "##### Comparing Actual and Predicted values "
   ]
  },
  {
   "cell_type": "code",
   "execution_count": 42,
   "id": "2364e14b",
   "metadata": {},
   "outputs": [
    {
     "data": {
      "text/html": [
       "<div>\n",
       "<style scoped>\n",
       "    .dataframe tbody tr th:only-of-type {\n",
       "        vertical-align: middle;\n",
       "    }\n",
       "\n",
       "    .dataframe tbody tr th {\n",
       "        vertical-align: top;\n",
       "    }\n",
       "\n",
       "    .dataframe thead th {\n",
       "        text-align: right;\n",
       "    }\n",
       "</style>\n",
       "<table border=\"1\" class=\"dataframe\">\n",
       "  <thead>\n",
       "    <tr style=\"text-align: right;\">\n",
       "      <th></th>\n",
       "      <th>Actual</th>\n",
       "      <th>Predicted</th>\n",
       "    </tr>\n",
       "  </thead>\n",
       "  <tbody>\n",
       "    <tr>\n",
       "      <th>483664</th>\n",
       "      <td>7747</td>\n",
       "      <td>9720.158554</td>\n",
       "    </tr>\n",
       "    <tr>\n",
       "      <th>179125</th>\n",
       "      <td>9555</td>\n",
       "      <td>8571.122246</td>\n",
       "    </tr>\n",
       "    <tr>\n",
       "      <th>148091</th>\n",
       "      <td>7721</td>\n",
       "      <td>6313.919078</td>\n",
       "    </tr>\n",
       "    <tr>\n",
       "      <th>384965</th>\n",
       "      <td>591</td>\n",
       "      <td>8609.037755</td>\n",
       "    </tr>\n",
       "    <tr>\n",
       "      <th>197871</th>\n",
       "      <td>6976</td>\n",
       "      <td>7082.840761</td>\n",
       "    </tr>\n",
       "    <tr>\n",
       "      <th>...</th>\n",
       "      <td>...</td>\n",
       "      <td>...</td>\n",
       "    </tr>\n",
       "    <tr>\n",
       "      <th>164214</th>\n",
       "      <td>4616</td>\n",
       "      <td>5618.057934</td>\n",
       "    </tr>\n",
       "    <tr>\n",
       "      <th>443661</th>\n",
       "      <td>10437</td>\n",
       "      <td>8350.036748</td>\n",
       "    </tr>\n",
       "    <tr>\n",
       "      <th>512804</th>\n",
       "      <td>15390</td>\n",
       "      <td>9968.395564</td>\n",
       "    </tr>\n",
       "    <tr>\n",
       "      <th>424100</th>\n",
       "      <td>7883</td>\n",
       "      <td>6715.175244</td>\n",
       "    </tr>\n",
       "    <tr>\n",
       "      <th>221417</th>\n",
       "      <td>3941</td>\n",
       "      <td>7753.404713</td>\n",
       "    </tr>\n",
       "  </tbody>\n",
       "</table>\n",
       "<p>110014 rows × 2 columns</p>\n",
       "</div>"
      ],
      "text/plain": [
       "        Actual    Predicted\n",
       "483664    7747  9720.158554\n",
       "179125    9555  8571.122246\n",
       "148091    7721  6313.919078\n",
       "384965     591  8609.037755\n",
       "197871    6976  7082.840761\n",
       "...        ...          ...\n",
       "164214    4616  5618.057934\n",
       "443661   10437  8350.036748\n",
       "512804   15390  9968.395564\n",
       "424100    7883  6715.175244\n",
       "221417    3941  7753.404713\n",
       "\n",
       "[110014 rows x 2 columns]"
      ]
     },
     "execution_count": 42,
     "metadata": {},
     "output_type": "execute_result"
    }
   ],
   "source": [
    "black_friday_compare = pd.DataFrame({'Actual': y_test, 'Predicted':ypred_test})\n",
    "black_friday_compare"
   ]
  },
  {
   "cell_type": "markdown",
   "id": "a7f63265",
   "metadata": {},
   "source": [
    "#### Calculating the Residual "
   ]
  },
  {
   "cell_type": "code",
   "execution_count": 43,
   "id": "814e1994",
   "metadata": {},
   "outputs": [
    {
     "data": {
      "text/html": [
       "<div>\n",
       "<style scoped>\n",
       "    .dataframe tbody tr th:only-of-type {\n",
       "        vertical-align: middle;\n",
       "    }\n",
       "\n",
       "    .dataframe tbody tr th {\n",
       "        vertical-align: top;\n",
       "    }\n",
       "\n",
       "    .dataframe thead th {\n",
       "        text-align: right;\n",
       "    }\n",
       "</style>\n",
       "<table border=\"1\" class=\"dataframe\">\n",
       "  <thead>\n",
       "    <tr style=\"text-align: right;\">\n",
       "      <th></th>\n",
       "      <th>Actual</th>\n",
       "      <th>Predicted</th>\n",
       "      <th>residual</th>\n",
       "    </tr>\n",
       "  </thead>\n",
       "  <tbody>\n",
       "    <tr>\n",
       "      <th>483664</th>\n",
       "      <td>7747</td>\n",
       "      <td>9720.158554</td>\n",
       "      <td>-1973.158554</td>\n",
       "    </tr>\n",
       "    <tr>\n",
       "      <th>179125</th>\n",
       "      <td>9555</td>\n",
       "      <td>8571.122246</td>\n",
       "      <td>983.877754</td>\n",
       "    </tr>\n",
       "    <tr>\n",
       "      <th>148091</th>\n",
       "      <td>7721</td>\n",
       "      <td>6313.919078</td>\n",
       "      <td>1407.080922</td>\n",
       "    </tr>\n",
       "    <tr>\n",
       "      <th>384965</th>\n",
       "      <td>591</td>\n",
       "      <td>8609.037755</td>\n",
       "      <td>-8018.037755</td>\n",
       "    </tr>\n",
       "    <tr>\n",
       "      <th>197871</th>\n",
       "      <td>6976</td>\n",
       "      <td>7082.840761</td>\n",
       "      <td>-106.840761</td>\n",
       "    </tr>\n",
       "    <tr>\n",
       "      <th>...</th>\n",
       "      <td>...</td>\n",
       "      <td>...</td>\n",
       "      <td>...</td>\n",
       "    </tr>\n",
       "    <tr>\n",
       "      <th>164214</th>\n",
       "      <td>4616</td>\n",
       "      <td>5618.057934</td>\n",
       "      <td>-1002.057934</td>\n",
       "    </tr>\n",
       "    <tr>\n",
       "      <th>443661</th>\n",
       "      <td>10437</td>\n",
       "      <td>8350.036748</td>\n",
       "      <td>2086.963252</td>\n",
       "    </tr>\n",
       "    <tr>\n",
       "      <th>512804</th>\n",
       "      <td>15390</td>\n",
       "      <td>9968.395564</td>\n",
       "      <td>5421.604436</td>\n",
       "    </tr>\n",
       "    <tr>\n",
       "      <th>424100</th>\n",
       "      <td>7883</td>\n",
       "      <td>6715.175244</td>\n",
       "      <td>1167.824756</td>\n",
       "    </tr>\n",
       "    <tr>\n",
       "      <th>221417</th>\n",
       "      <td>3941</td>\n",
       "      <td>7753.404713</td>\n",
       "      <td>-3812.404713</td>\n",
       "    </tr>\n",
       "  </tbody>\n",
       "</table>\n",
       "<p>110014 rows × 3 columns</p>\n",
       "</div>"
      ],
      "text/plain": [
       "        Actual    Predicted     residual\n",
       "483664    7747  9720.158554 -1973.158554\n",
       "179125    9555  8571.122246   983.877754\n",
       "148091    7721  6313.919078  1407.080922\n",
       "384965     591  8609.037755 -8018.037755\n",
       "197871    6976  7082.840761  -106.840761\n",
       "...        ...          ...          ...\n",
       "164214    4616  5618.057934 -1002.057934\n",
       "443661   10437  8350.036748  2086.963252\n",
       "512804   15390  9968.395564  5421.604436\n",
       "424100    7883  6715.175244  1167.824756\n",
       "221417    3941  7753.404713 -3812.404713\n",
       "\n",
       "[110014 rows x 3 columns]"
      ]
     },
     "execution_count": 43,
     "metadata": {},
     "output_type": "execute_result"
    }
   ],
   "source": [
    "black_friday_compare['residual'] = black_friday_compare['Actual'] - black_friday_compare['Predicted']\n",
    "black_friday_compare "
   ]
  },
  {
   "cell_type": "markdown",
   "id": "1051dda8",
   "metadata": {},
   "source": [
    "##### Calculating the % difference "
   ]
  },
  {
   "cell_type": "code",
   "execution_count": 44,
   "id": "4b8c577e",
   "metadata": {},
   "outputs": [
    {
     "data": {
      "text/html": [
       "<div>\n",
       "<style scoped>\n",
       "    .dataframe tbody tr th:only-of-type {\n",
       "        vertical-align: middle;\n",
       "    }\n",
       "\n",
       "    .dataframe tbody tr th {\n",
       "        vertical-align: top;\n",
       "    }\n",
       "\n",
       "    .dataframe thead th {\n",
       "        text-align: right;\n",
       "    }\n",
       "</style>\n",
       "<table border=\"1\" class=\"dataframe\">\n",
       "  <thead>\n",
       "    <tr style=\"text-align: right;\">\n",
       "      <th></th>\n",
       "      <th>Actual</th>\n",
       "      <th>Predicted</th>\n",
       "      <th>residual</th>\n",
       "      <th>%difference</th>\n",
       "    </tr>\n",
       "  </thead>\n",
       "  <tbody>\n",
       "    <tr>\n",
       "      <th>483664</th>\n",
       "      <td>7747</td>\n",
       "      <td>9720.158554</td>\n",
       "      <td>-1973.158554</td>\n",
       "      <td>25.469970</td>\n",
       "    </tr>\n",
       "    <tr>\n",
       "      <th>179125</th>\n",
       "      <td>9555</td>\n",
       "      <td>8571.122246</td>\n",
       "      <td>983.877754</td>\n",
       "      <td>10.296994</td>\n",
       "    </tr>\n",
       "    <tr>\n",
       "      <th>148091</th>\n",
       "      <td>7721</td>\n",
       "      <td>6313.919078</td>\n",
       "      <td>1407.080922</td>\n",
       "      <td>18.224076</td>\n",
       "    </tr>\n",
       "    <tr>\n",
       "      <th>384965</th>\n",
       "      <td>591</td>\n",
       "      <td>8609.037755</td>\n",
       "      <td>-8018.037755</td>\n",
       "      <td>1356.689976</td>\n",
       "    </tr>\n",
       "    <tr>\n",
       "      <th>197871</th>\n",
       "      <td>6976</td>\n",
       "      <td>7082.840761</td>\n",
       "      <td>-106.840761</td>\n",
       "      <td>1.531548</td>\n",
       "    </tr>\n",
       "    <tr>\n",
       "      <th>...</th>\n",
       "      <td>...</td>\n",
       "      <td>...</td>\n",
       "      <td>...</td>\n",
       "      <td>...</td>\n",
       "    </tr>\n",
       "    <tr>\n",
       "      <th>164214</th>\n",
       "      <td>4616</td>\n",
       "      <td>5618.057934</td>\n",
       "      <td>-1002.057934</td>\n",
       "      <td>21.708361</td>\n",
       "    </tr>\n",
       "    <tr>\n",
       "      <th>443661</th>\n",
       "      <td>10437</td>\n",
       "      <td>8350.036748</td>\n",
       "      <td>2086.963252</td>\n",
       "      <td>19.995815</td>\n",
       "    </tr>\n",
       "    <tr>\n",
       "      <th>512804</th>\n",
       "      <td>15390</td>\n",
       "      <td>9968.395564</td>\n",
       "      <td>5421.604436</td>\n",
       "      <td>35.228099</td>\n",
       "    </tr>\n",
       "    <tr>\n",
       "      <th>424100</th>\n",
       "      <td>7883</td>\n",
       "      <td>6715.175244</td>\n",
       "      <td>1167.824756</td>\n",
       "      <td>14.814471</td>\n",
       "    </tr>\n",
       "    <tr>\n",
       "      <th>221417</th>\n",
       "      <td>3941</td>\n",
       "      <td>7753.404713</td>\n",
       "      <td>-3812.404713</td>\n",
       "      <td>96.736988</td>\n",
       "    </tr>\n",
       "  </tbody>\n",
       "</table>\n",
       "<p>110014 rows × 4 columns</p>\n",
       "</div>"
      ],
      "text/plain": [
       "        Actual    Predicted     residual  %difference\n",
       "483664    7747  9720.158554 -1973.158554    25.469970\n",
       "179125    9555  8571.122246   983.877754    10.296994\n",
       "148091    7721  6313.919078  1407.080922    18.224076\n",
       "384965     591  8609.037755 -8018.037755  1356.689976\n",
       "197871    6976  7082.840761  -106.840761     1.531548\n",
       "...        ...          ...          ...          ...\n",
       "164214    4616  5618.057934 -1002.057934    21.708361\n",
       "443661   10437  8350.036748  2086.963252    19.995815\n",
       "512804   15390  9968.395564  5421.604436    35.228099\n",
       "424100    7883  6715.175244  1167.824756    14.814471\n",
       "221417    3941  7753.404713 -3812.404713    96.736988\n",
       "\n",
       "[110014 rows x 4 columns]"
      ]
     },
     "execution_count": 44,
     "metadata": {},
     "output_type": "execute_result"
    }
   ],
   "source": [
    "black_friday_compare['%difference'] = np.absolute(black_friday_compare['residual']/black_friday_compare['Actual']*100) \n",
    "black_friday_compare"
   ]
  },
  {
   "cell_type": "code",
   "execution_count": 45,
   "id": "8da3d921",
   "metadata": {},
   "outputs": [
    {
     "data": {
      "text/html": [
       "<div>\n",
       "<style scoped>\n",
       "    .dataframe tbody tr th:only-of-type {\n",
       "        vertical-align: middle;\n",
       "    }\n",
       "\n",
       "    .dataframe tbody tr th {\n",
       "        vertical-align: top;\n",
       "    }\n",
       "\n",
       "    .dataframe thead th {\n",
       "        text-align: right;\n",
       "    }\n",
       "</style>\n",
       "<table border=\"1\" class=\"dataframe\">\n",
       "  <thead>\n",
       "    <tr style=\"text-align: right;\">\n",
       "      <th></th>\n",
       "      <th>Actual</th>\n",
       "      <th>Predicted</th>\n",
       "      <th>residual</th>\n",
       "      <th>%difference</th>\n",
       "    </tr>\n",
       "  </thead>\n",
       "  <tbody>\n",
       "    <tr>\n",
       "      <th>count</th>\n",
       "      <td>110014.000000</td>\n",
       "      <td>110014.000000</td>\n",
       "      <td>110014.000000</td>\n",
       "      <td>1.100140e+05</td>\n",
       "    </tr>\n",
       "    <tr>\n",
       "      <th>mean</th>\n",
       "      <td>7268.398113</td>\n",
       "      <td>7272.039306</td>\n",
       "      <td>-3.641193</td>\n",
       "      <td>inf</td>\n",
       "    </tr>\n",
       "    <tr>\n",
       "      <th>std</th>\n",
       "      <td>4105.974507</td>\n",
       "      <td>1474.997911</td>\n",
       "      <td>3834.258675</td>\n",
       "      <td>NaN</td>\n",
       "    </tr>\n",
       "    <tr>\n",
       "      <th>min</th>\n",
       "      <td>0.000000</td>\n",
       "      <td>1646.039097</td>\n",
       "      <td>-8786.333768</td>\n",
       "      <td>1.847218e-06</td>\n",
       "    </tr>\n",
       "    <tr>\n",
       "      <th>25%</th>\n",
       "      <td>4383.000000</td>\n",
       "      <td>6383.947931</td>\n",
       "      <td>-2516.814114</td>\n",
       "      <td>1.422944e+01</td>\n",
       "    </tr>\n",
       "    <tr>\n",
       "      <th>50%</th>\n",
       "      <td>6370.000000</td>\n",
       "      <td>7315.136147</td>\n",
       "      <td>-417.595162</td>\n",
       "      <td>3.288965e+01</td>\n",
       "    </tr>\n",
       "    <tr>\n",
       "      <th>75%</th>\n",
       "      <td>9584.000000</td>\n",
       "      <td>8449.339373</td>\n",
       "      <td>1868.015073</td>\n",
       "      <td>6.860892e+01</td>\n",
       "    </tr>\n",
       "    <tr>\n",
       "      <th>max</th>\n",
       "      <td>18104.000000</td>\n",
       "      <td>10698.243178</td>\n",
       "      <td>13845.946797</td>\n",
       "      <td>inf</td>\n",
       "    </tr>\n",
       "  </tbody>\n",
       "</table>\n",
       "</div>"
      ],
      "text/plain": [
       "              Actual      Predicted       residual   %difference\n",
       "count  110014.000000  110014.000000  110014.000000  1.100140e+05\n",
       "mean     7268.398113    7272.039306      -3.641193           inf\n",
       "std      4105.974507    1474.997911    3834.258675           NaN\n",
       "min         0.000000    1646.039097   -8786.333768  1.847218e-06\n",
       "25%      4383.000000    6383.947931   -2516.814114  1.422944e+01\n",
       "50%      6370.000000    7315.136147    -417.595162  3.288965e+01\n",
       "75%      9584.000000    8449.339373    1868.015073  6.860892e+01\n",
       "max     18104.000000   10698.243178   13845.946797           inf"
      ]
     },
     "execution_count": 45,
     "metadata": {},
     "output_type": "execute_result"
    }
   ],
   "source": [
    "black_friday_compare.describe()"
   ]
  },
  {
   "cell_type": "code",
   "execution_count": 46,
   "id": "04af693b",
   "metadata": {},
   "outputs": [
    {
     "data": {
      "text/plain": [
       "3834.242977509298"
      ]
     },
     "execution_count": 46,
     "metadata": {},
     "output_type": "execute_result"
    }
   ],
   "source": [
    "from sklearn.metrics import mean_squared_error\n",
    "mean_squared_error(y_test, ypred_test, squared=False)"
   ]
  },
  {
   "cell_type": "markdown",
   "id": "7091ca67",
   "metadata": {},
   "source": [
    "### Using  Random Forest Regressor Model\n",
    "\n",
    "Training the model"
   ]
  },
  {
   "cell_type": "code",
   "execution_count": 47,
   "id": "5f86188c",
   "metadata": {},
   "outputs": [
    {
     "name": "stdout",
     "output_type": "stream",
     "text": [
      "Model trained\n"
     ]
    }
   ],
   "source": [
    "from sklearn.ensemble import RandomForestRegressor\n",
    "rf = RandomForestRegressor()\n",
    "rf.fit(x_train, y_train)\n",
    "print('Model trained')"
   ]
  },
  {
   "cell_type": "markdown",
   "id": "46d61865",
   "metadata": {},
   "source": [
    "##### Testing the model "
   ]
  },
  {
   "cell_type": "code",
   "execution_count": 48,
   "id": "32515d7e",
   "metadata": {},
   "outputs": [],
   "source": [
    " # predicting the x_test using the random forest regressor\n",
    "ypred_test2 = rf.predict(x_test)"
   ]
  },
  {
   "cell_type": "markdown",
   "id": "9de4a493",
   "metadata": {},
   "source": [
    "#### Comparing Actual and Predicted values "
   ]
  },
  {
   "cell_type": "code",
   "execution_count": 49,
   "id": "a347154a",
   "metadata": {},
   "outputs": [
    {
     "data": {
      "text/html": [
       "<div>\n",
       "<style scoped>\n",
       "    .dataframe tbody tr th:only-of-type {\n",
       "        vertical-align: middle;\n",
       "    }\n",
       "\n",
       "    .dataframe tbody tr th {\n",
       "        vertical-align: top;\n",
       "    }\n",
       "\n",
       "    .dataframe thead th {\n",
       "        text-align: right;\n",
       "    }\n",
       "</style>\n",
       "<table border=\"1\" class=\"dataframe\">\n",
       "  <thead>\n",
       "    <tr style=\"text-align: right;\">\n",
       "      <th></th>\n",
       "      <th>Actual</th>\n",
       "      <th>Predicted</th>\n",
       "    </tr>\n",
       "  </thead>\n",
       "  <tbody>\n",
       "    <tr>\n",
       "      <th>483664</th>\n",
       "      <td>7747</td>\n",
       "      <td>11189.237786</td>\n",
       "    </tr>\n",
       "    <tr>\n",
       "      <th>179125</th>\n",
       "      <td>9555</td>\n",
       "      <td>10687.989189</td>\n",
       "    </tr>\n",
       "    <tr>\n",
       "      <th>148091</th>\n",
       "      <td>7721</td>\n",
       "      <td>6305.140869</td>\n",
       "    </tr>\n",
       "    <tr>\n",
       "      <th>384965</th>\n",
       "      <td>591</td>\n",
       "      <td>1784.931652</td>\n",
       "    </tr>\n",
       "    <tr>\n",
       "      <th>197871</th>\n",
       "      <td>6976</td>\n",
       "      <td>5031.479341</td>\n",
       "    </tr>\n",
       "    <tr>\n",
       "      <th>...</th>\n",
       "      <td>...</td>\n",
       "      <td>...</td>\n",
       "    </tr>\n",
       "    <tr>\n",
       "      <th>164214</th>\n",
       "      <td>4616</td>\n",
       "      <td>6170.976652</td>\n",
       "    </tr>\n",
       "    <tr>\n",
       "      <th>443661</th>\n",
       "      <td>10437</td>\n",
       "      <td>6808.321747</td>\n",
       "    </tr>\n",
       "    <tr>\n",
       "      <th>512804</th>\n",
       "      <td>15390</td>\n",
       "      <td>12499.501333</td>\n",
       "    </tr>\n",
       "    <tr>\n",
       "      <th>424100</th>\n",
       "      <td>7883</td>\n",
       "      <td>6881.668934</td>\n",
       "    </tr>\n",
       "    <tr>\n",
       "      <th>221417</th>\n",
       "      <td>3941</td>\n",
       "      <td>5312.972957</td>\n",
       "    </tr>\n",
       "  </tbody>\n",
       "</table>\n",
       "<p>110014 rows × 2 columns</p>\n",
       "</div>"
      ],
      "text/plain": [
       "        Actual     Predicted\n",
       "483664    7747  11189.237786\n",
       "179125    9555  10687.989189\n",
       "148091    7721   6305.140869\n",
       "384965     591   1784.931652\n",
       "197871    6976   5031.479341\n",
       "...        ...           ...\n",
       "164214    4616   6170.976652\n",
       "443661   10437   6808.321747\n",
       "512804   15390  12499.501333\n",
       "424100    7883   6881.668934\n",
       "221417    3941   5312.972957\n",
       "\n",
       "[110014 rows x 2 columns]"
      ]
     },
     "execution_count": 49,
     "metadata": {},
     "output_type": "execute_result"
    }
   ],
   "source": [
    "black_friday_compare2 = pd.DataFrame({'Actual': y_test, 'Predicted':ypred_test2})\n",
    "black_friday_compare2"
   ]
  },
  {
   "cell_type": "markdown",
   "id": "c8b45f2b",
   "metadata": {},
   "source": [
    "##### Calculating the Residual "
   ]
  },
  {
   "cell_type": "code",
   "execution_count": 50,
   "id": "7a628c58",
   "metadata": {},
   "outputs": [
    {
     "data": {
      "text/html": [
       "<div>\n",
       "<style scoped>\n",
       "    .dataframe tbody tr th:only-of-type {\n",
       "        vertical-align: middle;\n",
       "    }\n",
       "\n",
       "    .dataframe tbody tr th {\n",
       "        vertical-align: top;\n",
       "    }\n",
       "\n",
       "    .dataframe thead th {\n",
       "        text-align: right;\n",
       "    }\n",
       "</style>\n",
       "<table border=\"1\" class=\"dataframe\">\n",
       "  <thead>\n",
       "    <tr style=\"text-align: right;\">\n",
       "      <th></th>\n",
       "      <th>Actual</th>\n",
       "      <th>Predicted</th>\n",
       "      <th>residual</th>\n",
       "    </tr>\n",
       "  </thead>\n",
       "  <tbody>\n",
       "    <tr>\n",
       "      <th>483664</th>\n",
       "      <td>7747</td>\n",
       "      <td>11189.237786</td>\n",
       "      <td>-3442.237786</td>\n",
       "    </tr>\n",
       "    <tr>\n",
       "      <th>179125</th>\n",
       "      <td>9555</td>\n",
       "      <td>10687.989189</td>\n",
       "      <td>-1132.989189</td>\n",
       "    </tr>\n",
       "    <tr>\n",
       "      <th>148091</th>\n",
       "      <td>7721</td>\n",
       "      <td>6305.140869</td>\n",
       "      <td>1415.859131</td>\n",
       "    </tr>\n",
       "    <tr>\n",
       "      <th>384965</th>\n",
       "      <td>591</td>\n",
       "      <td>1784.931652</td>\n",
       "      <td>-1193.931652</td>\n",
       "    </tr>\n",
       "    <tr>\n",
       "      <th>197871</th>\n",
       "      <td>6976</td>\n",
       "      <td>5031.479341</td>\n",
       "      <td>1944.520659</td>\n",
       "    </tr>\n",
       "    <tr>\n",
       "      <th>...</th>\n",
       "      <td>...</td>\n",
       "      <td>...</td>\n",
       "      <td>...</td>\n",
       "    </tr>\n",
       "    <tr>\n",
       "      <th>164214</th>\n",
       "      <td>4616</td>\n",
       "      <td>6170.976652</td>\n",
       "      <td>-1554.976652</td>\n",
       "    </tr>\n",
       "    <tr>\n",
       "      <th>443661</th>\n",
       "      <td>10437</td>\n",
       "      <td>6808.321747</td>\n",
       "      <td>3628.678253</td>\n",
       "    </tr>\n",
       "    <tr>\n",
       "      <th>512804</th>\n",
       "      <td>15390</td>\n",
       "      <td>12499.501333</td>\n",
       "      <td>2890.498667</td>\n",
       "    </tr>\n",
       "    <tr>\n",
       "      <th>424100</th>\n",
       "      <td>7883</td>\n",
       "      <td>6881.668934</td>\n",
       "      <td>1001.331066</td>\n",
       "    </tr>\n",
       "    <tr>\n",
       "      <th>221417</th>\n",
       "      <td>3941</td>\n",
       "      <td>5312.972957</td>\n",
       "      <td>-1371.972957</td>\n",
       "    </tr>\n",
       "  </tbody>\n",
       "</table>\n",
       "<p>110014 rows × 3 columns</p>\n",
       "</div>"
      ],
      "text/plain": [
       "        Actual     Predicted     residual\n",
       "483664    7747  11189.237786 -3442.237786\n",
       "179125    9555  10687.989189 -1132.989189\n",
       "148091    7721   6305.140869  1415.859131\n",
       "384965     591   1784.931652 -1193.931652\n",
       "197871    6976   5031.479341  1944.520659\n",
       "...        ...           ...          ...\n",
       "164214    4616   6170.976652 -1554.976652\n",
       "443661   10437   6808.321747  3628.678253\n",
       "512804   15390  12499.501333  2890.498667\n",
       "424100    7883   6881.668934  1001.331066\n",
       "221417    3941   5312.972957 -1371.972957\n",
       "\n",
       "[110014 rows x 3 columns]"
      ]
     },
     "execution_count": 50,
     "metadata": {},
     "output_type": "execute_result"
    }
   ],
   "source": [
    "black_friday_compare2['residual'] = black_friday_compare2['Actual'] - black_friday_compare2['Predicted']\n",
    "black_friday_compare2"
   ]
  },
  {
   "cell_type": "markdown",
   "id": "2ee9f11c",
   "metadata": {},
   "source": [
    "#### Calculating the % difference "
   ]
  },
  {
   "cell_type": "code",
   "execution_count": 51,
   "id": "f0be42c8",
   "metadata": {},
   "outputs": [
    {
     "data": {
      "text/html": [
       "<div>\n",
       "<style scoped>\n",
       "    .dataframe tbody tr th:only-of-type {\n",
       "        vertical-align: middle;\n",
       "    }\n",
       "\n",
       "    .dataframe tbody tr th {\n",
       "        vertical-align: top;\n",
       "    }\n",
       "\n",
       "    .dataframe thead th {\n",
       "        text-align: right;\n",
       "    }\n",
       "</style>\n",
       "<table border=\"1\" class=\"dataframe\">\n",
       "  <thead>\n",
       "    <tr style=\"text-align: right;\">\n",
       "      <th></th>\n",
       "      <th>Actual</th>\n",
       "      <th>Predicted</th>\n",
       "      <th>residual</th>\n",
       "      <th>%difference</th>\n",
       "    </tr>\n",
       "  </thead>\n",
       "  <tbody>\n",
       "    <tr>\n",
       "      <th>483664</th>\n",
       "      <td>7747</td>\n",
       "      <td>11189.237786</td>\n",
       "      <td>-3442.237786</td>\n",
       "      <td>44.433171</td>\n",
       "    </tr>\n",
       "    <tr>\n",
       "      <th>179125</th>\n",
       "      <td>9555</td>\n",
       "      <td>10687.989189</td>\n",
       "      <td>-1132.989189</td>\n",
       "      <td>11.857553</td>\n",
       "    </tr>\n",
       "    <tr>\n",
       "      <th>148091</th>\n",
       "      <td>7721</td>\n",
       "      <td>6305.140869</td>\n",
       "      <td>1415.859131</td>\n",
       "      <td>18.337769</td>\n",
       "    </tr>\n",
       "    <tr>\n",
       "      <th>384965</th>\n",
       "      <td>591</td>\n",
       "      <td>1784.931652</td>\n",
       "      <td>-1193.931652</td>\n",
       "      <td>202.018892</td>\n",
       "    </tr>\n",
       "    <tr>\n",
       "      <th>197871</th>\n",
       "      <td>6976</td>\n",
       "      <td>5031.479341</td>\n",
       "      <td>1944.520659</td>\n",
       "      <td>27.874436</td>\n",
       "    </tr>\n",
       "    <tr>\n",
       "      <th>...</th>\n",
       "      <td>...</td>\n",
       "      <td>...</td>\n",
       "      <td>...</td>\n",
       "      <td>...</td>\n",
       "    </tr>\n",
       "    <tr>\n",
       "      <th>164214</th>\n",
       "      <td>4616</td>\n",
       "      <td>6170.976652</td>\n",
       "      <td>-1554.976652</td>\n",
       "      <td>33.686669</td>\n",
       "    </tr>\n",
       "    <tr>\n",
       "      <th>443661</th>\n",
       "      <td>10437</td>\n",
       "      <td>6808.321747</td>\n",
       "      <td>3628.678253</td>\n",
       "      <td>34.767445</td>\n",
       "    </tr>\n",
       "    <tr>\n",
       "      <th>512804</th>\n",
       "      <td>15390</td>\n",
       "      <td>12499.501333</td>\n",
       "      <td>2890.498667</td>\n",
       "      <td>18.781668</td>\n",
       "    </tr>\n",
       "    <tr>\n",
       "      <th>424100</th>\n",
       "      <td>7883</td>\n",
       "      <td>6881.668934</td>\n",
       "      <td>1001.331066</td>\n",
       "      <td>12.702411</td>\n",
       "    </tr>\n",
       "    <tr>\n",
       "      <th>221417</th>\n",
       "      <td>3941</td>\n",
       "      <td>5312.972957</td>\n",
       "      <td>-1371.972957</td>\n",
       "      <td>34.812813</td>\n",
       "    </tr>\n",
       "  </tbody>\n",
       "</table>\n",
       "<p>110014 rows × 4 columns</p>\n",
       "</div>"
      ],
      "text/plain": [
       "        Actual     Predicted     residual  %difference\n",
       "483664    7747  11189.237786 -3442.237786    44.433171\n",
       "179125    9555  10687.989189 -1132.989189    11.857553\n",
       "148091    7721   6305.140869  1415.859131    18.337769\n",
       "384965     591   1784.931652 -1193.931652   202.018892\n",
       "197871    6976   5031.479341  1944.520659    27.874436\n",
       "...        ...           ...          ...          ...\n",
       "164214    4616   6170.976652 -1554.976652    33.686669\n",
       "443661   10437   6808.321747  3628.678253    34.767445\n",
       "512804   15390  12499.501333  2890.498667    18.781668\n",
       "424100    7883   6881.668934  1001.331066    12.702411\n",
       "221417    3941   5312.972957 -1371.972957    34.812813\n",
       "\n",
       "[110014 rows x 4 columns]"
      ]
     },
     "execution_count": 51,
     "metadata": {},
     "output_type": "execute_result"
    }
   ],
   "source": [
    "black_friday_compare2['%difference']=np.absolute(black_friday_compare2['residual']/black_friday_compare2['Actual']*100)\n",
    "black_friday_compare2"
   ]
  },
  {
   "cell_type": "code",
   "execution_count": 52,
   "id": "ad269236",
   "metadata": {},
   "outputs": [
    {
     "data": {
      "text/plain": [
       "2493.9240870773697"
      ]
     },
     "execution_count": 52,
     "metadata": {},
     "output_type": "execute_result"
    }
   ],
   "source": [
    "from sklearn.metrics import mean_squared_error\n",
    "mean_squared_error(y_test, ypred_test2, squared=False)"
   ]
  },
  {
   "cell_type": "markdown",
   "id": "88888da0",
   "metadata": {},
   "source": [
    "###  Using Gradient Boosting Regressor "
   ]
  },
  {
   "cell_type": "code",
   "execution_count": 53,
   "id": "4b02e7b5",
   "metadata": {},
   "outputs": [
    {
     "name": "stdout",
     "output_type": "stream",
     "text": [
      "Model successfully trained\n"
     ]
    }
   ],
   "source": [
    "from sklearn.ensemble import GradientBoostingRegressor\n",
    "gb = GradientBoostingRegressor()\n",
    "gb.fit(x_train, y_train)\n",
    "print('Model successfully trained')"
   ]
  },
  {
   "cell_type": "markdown",
   "id": "d0bf70f6",
   "metadata": {},
   "source": [
    "#### Testing the model "
   ]
  },
  {
   "cell_type": "code",
   "execution_count": 54,
   "id": "e2ab91fa",
   "metadata": {},
   "outputs": [],
   "source": [
    "# predicting the x_test using the gradient boosting regressor\n",
    "ypred_test3 = gb.predict(x_test)"
   ]
  },
  {
   "cell_type": "markdown",
   "id": "95774342",
   "metadata": {},
   "source": [
    "#### Comparing Actual and Predicted values"
   ]
  },
  {
   "cell_type": "code",
   "execution_count": 55,
   "id": "9fa8dc69",
   "metadata": {},
   "outputs": [
    {
     "data": {
      "text/html": [
       "<div>\n",
       "<style scoped>\n",
       "    .dataframe tbody tr th:only-of-type {\n",
       "        vertical-align: middle;\n",
       "    }\n",
       "\n",
       "    .dataframe tbody tr th {\n",
       "        vertical-align: top;\n",
       "    }\n",
       "\n",
       "    .dataframe thead th {\n",
       "        text-align: right;\n",
       "    }\n",
       "</style>\n",
       "<table border=\"1\" class=\"dataframe\">\n",
       "  <thead>\n",
       "    <tr style=\"text-align: right;\">\n",
       "      <th></th>\n",
       "      <th>Actual</th>\n",
       "      <th>Predicted</th>\n",
       "    </tr>\n",
       "  </thead>\n",
       "  <tbody>\n",
       "    <tr>\n",
       "      <th>483664</th>\n",
       "      <td>7747</td>\n",
       "      <td>9433.018966</td>\n",
       "    </tr>\n",
       "    <tr>\n",
       "      <th>179125</th>\n",
       "      <td>9555</td>\n",
       "      <td>10275.331361</td>\n",
       "    </tr>\n",
       "    <tr>\n",
       "      <th>148091</th>\n",
       "      <td>7721</td>\n",
       "      <td>6063.880643</td>\n",
       "    </tr>\n",
       "    <tr>\n",
       "      <th>384965</th>\n",
       "      <td>591</td>\n",
       "      <td>2514.098774</td>\n",
       "    </tr>\n",
       "    <tr>\n",
       "      <th>197871</th>\n",
       "      <td>6976</td>\n",
       "      <td>4743.948319</td>\n",
       "    </tr>\n",
       "    <tr>\n",
       "      <th>...</th>\n",
       "      <td>...</td>\n",
       "      <td>...</td>\n",
       "    </tr>\n",
       "    <tr>\n",
       "      <th>164214</th>\n",
       "      <td>4616</td>\n",
       "      <td>5805.776902</td>\n",
       "    </tr>\n",
       "    <tr>\n",
       "      <th>443661</th>\n",
       "      <td>10437</td>\n",
       "      <td>8861.002395</td>\n",
       "    </tr>\n",
       "    <tr>\n",
       "      <th>512804</th>\n",
       "      <td>15390</td>\n",
       "      <td>11284.858175</td>\n",
       "    </tr>\n",
       "    <tr>\n",
       "      <th>424100</th>\n",
       "      <td>7883</td>\n",
       "      <td>6305.657136</td>\n",
       "    </tr>\n",
       "    <tr>\n",
       "      <th>221417</th>\n",
       "      <td>3941</td>\n",
       "      <td>5021.226967</td>\n",
       "    </tr>\n",
       "  </tbody>\n",
       "</table>\n",
       "<p>110014 rows × 2 columns</p>\n",
       "</div>"
      ],
      "text/plain": [
       "        Actual     Predicted\n",
       "483664    7747   9433.018966\n",
       "179125    9555  10275.331361\n",
       "148091    7721   6063.880643\n",
       "384965     591   2514.098774\n",
       "197871    6976   4743.948319\n",
       "...        ...           ...\n",
       "164214    4616   5805.776902\n",
       "443661   10437   8861.002395\n",
       "512804   15390  11284.858175\n",
       "424100    7883   6305.657136\n",
       "221417    3941   5021.226967\n",
       "\n",
       "[110014 rows x 2 columns]"
      ]
     },
     "execution_count": 55,
     "metadata": {},
     "output_type": "execute_result"
    }
   ],
   "source": [
    "black_friday_compare3 = pd.DataFrame({'Actual': y_test, 'Predicted':ypred_test3})\n",
    "black_friday_compare3"
   ]
  },
  {
   "cell_type": "markdown",
   "id": "30bd4105",
   "metadata": {},
   "source": [
    "##### Calculating the residual "
   ]
  },
  {
   "cell_type": "code",
   "execution_count": 56,
   "id": "02d5dc2e",
   "metadata": {},
   "outputs": [
    {
     "data": {
      "text/html": [
       "<div>\n",
       "<style scoped>\n",
       "    .dataframe tbody tr th:only-of-type {\n",
       "        vertical-align: middle;\n",
       "    }\n",
       "\n",
       "    .dataframe tbody tr th {\n",
       "        vertical-align: top;\n",
       "    }\n",
       "\n",
       "    .dataframe thead th {\n",
       "        text-align: right;\n",
       "    }\n",
       "</style>\n",
       "<table border=\"1\" class=\"dataframe\">\n",
       "  <thead>\n",
       "    <tr style=\"text-align: right;\">\n",
       "      <th></th>\n",
       "      <th>Actual</th>\n",
       "      <th>Predicted</th>\n",
       "      <th>residual</th>\n",
       "    </tr>\n",
       "  </thead>\n",
       "  <tbody>\n",
       "    <tr>\n",
       "      <th>483664</th>\n",
       "      <td>7747</td>\n",
       "      <td>9433.018966</td>\n",
       "      <td>-1686.018966</td>\n",
       "    </tr>\n",
       "    <tr>\n",
       "      <th>179125</th>\n",
       "      <td>9555</td>\n",
       "      <td>10275.331361</td>\n",
       "      <td>-720.331361</td>\n",
       "    </tr>\n",
       "    <tr>\n",
       "      <th>148091</th>\n",
       "      <td>7721</td>\n",
       "      <td>6063.880643</td>\n",
       "      <td>1657.119357</td>\n",
       "    </tr>\n",
       "    <tr>\n",
       "      <th>384965</th>\n",
       "      <td>591</td>\n",
       "      <td>2514.098774</td>\n",
       "      <td>-1923.098774</td>\n",
       "    </tr>\n",
       "    <tr>\n",
       "      <th>197871</th>\n",
       "      <td>6976</td>\n",
       "      <td>4743.948319</td>\n",
       "      <td>2232.051681</td>\n",
       "    </tr>\n",
       "    <tr>\n",
       "      <th>...</th>\n",
       "      <td>...</td>\n",
       "      <td>...</td>\n",
       "      <td>...</td>\n",
       "    </tr>\n",
       "    <tr>\n",
       "      <th>164214</th>\n",
       "      <td>4616</td>\n",
       "      <td>5805.776902</td>\n",
       "      <td>-1189.776902</td>\n",
       "    </tr>\n",
       "    <tr>\n",
       "      <th>443661</th>\n",
       "      <td>10437</td>\n",
       "      <td>8861.002395</td>\n",
       "      <td>1575.997605</td>\n",
       "    </tr>\n",
       "    <tr>\n",
       "      <th>512804</th>\n",
       "      <td>15390</td>\n",
       "      <td>11284.858175</td>\n",
       "      <td>4105.141825</td>\n",
       "    </tr>\n",
       "    <tr>\n",
       "      <th>424100</th>\n",
       "      <td>7883</td>\n",
       "      <td>6305.657136</td>\n",
       "      <td>1577.342864</td>\n",
       "    </tr>\n",
       "    <tr>\n",
       "      <th>221417</th>\n",
       "      <td>3941</td>\n",
       "      <td>5021.226967</td>\n",
       "      <td>-1080.226967</td>\n",
       "    </tr>\n",
       "  </tbody>\n",
       "</table>\n",
       "<p>110014 rows × 3 columns</p>\n",
       "</div>"
      ],
      "text/plain": [
       "        Actual     Predicted     residual\n",
       "483664    7747   9433.018966 -1686.018966\n",
       "179125    9555  10275.331361  -720.331361\n",
       "148091    7721   6063.880643  1657.119357\n",
       "384965     591   2514.098774 -1923.098774\n",
       "197871    6976   4743.948319  2232.051681\n",
       "...        ...           ...          ...\n",
       "164214    4616   5805.776902 -1189.776902\n",
       "443661   10437   8861.002395  1575.997605\n",
       "512804   15390  11284.858175  4105.141825\n",
       "424100    7883   6305.657136  1577.342864\n",
       "221417    3941   5021.226967 -1080.226967\n",
       "\n",
       "[110014 rows x 3 columns]"
      ]
     },
     "execution_count": 56,
     "metadata": {},
     "output_type": "execute_result"
    }
   ],
   "source": [
    "black_friday_compare3['residual'] = black_friday_compare3['Actual'] - black_friday_compare3['Predicted']\n",
    "black_friday_compare3"
   ]
  },
  {
   "cell_type": "markdown",
   "id": "77f1f242",
   "metadata": {},
   "source": [
    "###### Calculating the % diiference "
   ]
  },
  {
   "cell_type": "code",
   "execution_count": 57,
   "id": "1871d35f",
   "metadata": {},
   "outputs": [
    {
     "data": {
      "text/html": [
       "<div>\n",
       "<style scoped>\n",
       "    .dataframe tbody tr th:only-of-type {\n",
       "        vertical-align: middle;\n",
       "    }\n",
       "\n",
       "    .dataframe tbody tr th {\n",
       "        vertical-align: top;\n",
       "    }\n",
       "\n",
       "    .dataframe thead th {\n",
       "        text-align: right;\n",
       "    }\n",
       "</style>\n",
       "<table border=\"1\" class=\"dataframe\">\n",
       "  <thead>\n",
       "    <tr style=\"text-align: right;\">\n",
       "      <th></th>\n",
       "      <th>Actual</th>\n",
       "      <th>Predicted</th>\n",
       "      <th>residual</th>\n",
       "      <th>%difference</th>\n",
       "    </tr>\n",
       "  </thead>\n",
       "  <tbody>\n",
       "    <tr>\n",
       "      <th>483664</th>\n",
       "      <td>7747</td>\n",
       "      <td>9433.018966</td>\n",
       "      <td>-1686.018966</td>\n",
       "      <td>21.763508</td>\n",
       "    </tr>\n",
       "    <tr>\n",
       "      <th>179125</th>\n",
       "      <td>9555</td>\n",
       "      <td>10275.331361</td>\n",
       "      <td>-720.331361</td>\n",
       "      <td>7.538790</td>\n",
       "    </tr>\n",
       "    <tr>\n",
       "      <th>148091</th>\n",
       "      <td>7721</td>\n",
       "      <td>6063.880643</td>\n",
       "      <td>1657.119357</td>\n",
       "      <td>21.462497</td>\n",
       "    </tr>\n",
       "    <tr>\n",
       "      <th>384965</th>\n",
       "      <td>591</td>\n",
       "      <td>2514.098774</td>\n",
       "      <td>-1923.098774</td>\n",
       "      <td>325.397424</td>\n",
       "    </tr>\n",
       "    <tr>\n",
       "      <th>197871</th>\n",
       "      <td>6976</td>\n",
       "      <td>4743.948319</td>\n",
       "      <td>2232.051681</td>\n",
       "      <td>31.996154</td>\n",
       "    </tr>\n",
       "    <tr>\n",
       "      <th>...</th>\n",
       "      <td>...</td>\n",
       "      <td>...</td>\n",
       "      <td>...</td>\n",
       "      <td>...</td>\n",
       "    </tr>\n",
       "    <tr>\n",
       "      <th>164214</th>\n",
       "      <td>4616</td>\n",
       "      <td>5805.776902</td>\n",
       "      <td>-1189.776902</td>\n",
       "      <td>25.775063</td>\n",
       "    </tr>\n",
       "    <tr>\n",
       "      <th>443661</th>\n",
       "      <td>10437</td>\n",
       "      <td>8861.002395</td>\n",
       "      <td>1575.997605</td>\n",
       "      <td>15.100102</td>\n",
       "    </tr>\n",
       "    <tr>\n",
       "      <th>512804</th>\n",
       "      <td>15390</td>\n",
       "      <td>11284.858175</td>\n",
       "      <td>4105.141825</td>\n",
       "      <td>26.674086</td>\n",
       "    </tr>\n",
       "    <tr>\n",
       "      <th>424100</th>\n",
       "      <td>7883</td>\n",
       "      <td>6305.657136</td>\n",
       "      <td>1577.342864</td>\n",
       "      <td>20.009424</td>\n",
       "    </tr>\n",
       "    <tr>\n",
       "      <th>221417</th>\n",
       "      <td>3941</td>\n",
       "      <td>5021.226967</td>\n",
       "      <td>-1080.226967</td>\n",
       "      <td>27.409971</td>\n",
       "    </tr>\n",
       "  </tbody>\n",
       "</table>\n",
       "<p>110014 rows × 4 columns</p>\n",
       "</div>"
      ],
      "text/plain": [
       "        Actual     Predicted     residual  %difference\n",
       "483664    7747   9433.018966 -1686.018966    21.763508\n",
       "179125    9555  10275.331361  -720.331361     7.538790\n",
       "148091    7721   6063.880643  1657.119357    21.462497\n",
       "384965     591   2514.098774 -1923.098774   325.397424\n",
       "197871    6976   4743.948319  2232.051681    31.996154\n",
       "...        ...           ...          ...          ...\n",
       "164214    4616   5805.776902 -1189.776902    25.775063\n",
       "443661   10437   8861.002395  1575.997605    15.100102\n",
       "512804   15390  11284.858175  4105.141825    26.674086\n",
       "424100    7883   6305.657136  1577.342864    20.009424\n",
       "221417    3941   5021.226967 -1080.226967    27.409971\n",
       "\n",
       "[110014 rows x 4 columns]"
      ]
     },
     "execution_count": 57,
     "metadata": {},
     "output_type": "execute_result"
    }
   ],
   "source": [
    "black_friday_compare3['%difference'] = np.absolute(black_friday_compare3['residual']/black_friday_compare['Actual']*100)\n",
    "black_friday_compare3"
   ]
  },
  {
   "cell_type": "code",
   "execution_count": 58,
   "id": "10629c8e",
   "metadata": {},
   "outputs": [
    {
     "data": {
      "text/plain": [
       "2443.9771906191168"
      ]
     },
     "execution_count": 58,
     "metadata": {},
     "output_type": "execute_result"
    }
   ],
   "source": [
    "from sklearn.metrics import mean_squared_error\n",
    "mean_squared_error(y_test, ypred_test3, squared=False)"
   ]
  },
  {
   "cell_type": "markdown",
   "id": "9c80fd1b",
   "metadata": {},
   "source": [
    "The ML algorithm that perform the best is the Gradient Boosting Regressor Model with RMSE = 2443"
   ]
  }
 ],
 "metadata": {
  "kernelspec": {
   "display_name": "Python 3 (ipykernel)",
   "language": "python",
   "name": "python3"
  },
  "language_info": {
   "codemirror_mode": {
    "name": "ipython",
    "version": 3
   },
   "file_extension": ".py",
   "mimetype": "text/x-python",
   "name": "python",
   "nbconvert_exporter": "python",
   "pygments_lexer": "ipython3",
   "version": "3.9.12"
  }
 },
 "nbformat": 4,
 "nbformat_minor": 5
}
